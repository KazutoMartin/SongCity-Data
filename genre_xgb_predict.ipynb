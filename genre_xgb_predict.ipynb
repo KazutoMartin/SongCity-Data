{
 "cells": [
  {
   "cell_type": "code",
   "execution_count": 4,
   "metadata": {},
   "outputs": [],
   "source": [
    "import xgboost\n",
    "model = xgboost.Booster()\n",
    "model.load_model('my_model.json')"
   ]
  },
  {
   "cell_type": "code",
   "execution_count": 7,
   "metadata": {},
   "outputs": [
    {
     "name": "stdout",
     "output_type": "stream",
     "text": [
      "{'Dark Trap': 0, 'Emo': 1, 'Hiphop': 2, 'Pop': 3, 'Rap': 4, 'RnB': 5, 'Trap Metal': 6, 'Underground Rap': 7, 'dnb': 8, 'hardstyle': 9, 'psytrance': 10, 'techhouse': 11, 'techno': 12, 'trance': 13, 'trap': 14}\n"
     ]
    }
   ],
   "source": [
    "import pandas as pd\n",
    "from sklearn.model_selection import train_test_split\n",
    "from sklearn.preprocessing import LabelEncoder,StandardScaler\n",
    "\n",
    "df = pd.read_csv(\"Data/genres_v2.csv\")\n",
    "\n",
    "# print(df.head())\n",
    "df = df.drop(columns=['type', 'id', 'uri', 'track_href','analysis_url', 'song_name','Unnamed: 0','title','time_signature',\n",
    "                      'mode', 'key'])\n",
    "\n",
    "df['genre_encoded'] = LabelEncoder().fit_transform(df['genre'])\n",
    "le = LabelEncoder()\n",
    "le.fit(df['genre'])\n",
    "le_name_mapping = dict(zip(le.classes_, le.transform(le.classes_)))\n",
    "print(le_name_mapping)\n",
    "\n",
    "\n",
    "X = df.drop(columns=['genre', 'genre_encoded'])\n",
    "y = df['genre_encoded']\n",
    "X_train, X_test, y_train, y_test = train_test_split(X, y, test_size=0.25, random_state=42, stratify=y)\n"
   ]
  },
  {
   "cell_type": "code",
   "execution_count": 20,
   "metadata": {},
   "outputs": [
    {
     "name": "stderr",
     "output_type": "stream",
     "text": [
      "<ipython-input-20-4496bbf7c39a>:2: SettingWithCopyWarning: \n",
      "A value is trying to be set on a copy of a slice from a DataFrame.\n",
      "Try using .loc[row_indexer,col_indexer] = value instead\n",
      "\n",
      "See the caveats in the documentation: https://pandas.pydata.org/pandas-docs/stable/user_guide/indexing.html#returning-a-view-versus-a-copy\n",
      "  X_train['tempo'] = std.transform(X_train[['tempo']])\n",
      "<ipython-input-20-4496bbf7c39a>:3: SettingWithCopyWarning: \n",
      "A value is trying to be set on a copy of a slice from a DataFrame.\n",
      "Try using .loc[row_indexer,col_indexer] = value instead\n",
      "\n",
      "See the caveats in the documentation: https://pandas.pydata.org/pandas-docs/stable/user_guide/indexing.html#returning-a-view-versus-a-copy\n",
      "  X_test['tempo'] = std.transform(X_test[['tempo']])\n",
      "<ipython-input-20-4496bbf7c39a>:6: SettingWithCopyWarning: \n",
      "A value is trying to be set on a copy of a slice from a DataFrame.\n",
      "Try using .loc[row_indexer,col_indexer] = value instead\n",
      "\n",
      "See the caveats in the documentation: https://pandas.pydata.org/pandas-docs/stable/user_guide/indexing.html#returning-a-view-versus-a-copy\n",
      "  X_train['duration_ms'] = std.transform(X_train[['duration_ms']])\n",
      "<ipython-input-20-4496bbf7c39a>:7: SettingWithCopyWarning: \n",
      "A value is trying to be set on a copy of a slice from a DataFrame.\n",
      "Try using .loc[row_indexer,col_indexer] = value instead\n",
      "\n",
      "See the caveats in the documentation: https://pandas.pydata.org/pandas-docs/stable/user_guide/indexing.html#returning-a-view-versus-a-copy\n",
      "  X_test['duration_ms'] = std.transform(X_test[['duration_ms']])\n",
      "C:\\Users\\Matin\\anaconda3\\lib\\site-packages\\xgboost\\sklearn.py:1224: UserWarning: The use of label encoder in XGBClassifier is deprecated and will be removed in a future release. To remove this warning, do the following: 1) Pass option use_label_encoder=False when constructing XGBClassifier object; and 2) Encode your labels (y) as integers starting with 0, i.e. 0, 1, 2, ..., [num_class - 1].\n",
      "  warnings.warn(label_encoder_deprecation_msg, UserWarning)\n"
     ]
    },
    {
     "name": "stdout",
     "output_type": "stream",
     "text": [
      "[17:33:19] WARNING: C:/Users/Administrator/workspace/xgboost-win64_release_1.5.1/src/learner.cc:1115: Starting in XGBoost 1.3.0, the default evaluation metric used with the objective 'multi:softprob' was changed from 'merror' to 'mlogloss'. Explicitly set eval_metric if you'd like to restore the old behavior.\n"
     ]
    },
    {
     "data": {
      "text/plain": [
       "XGBClassifier(base_score=0.5, booster='gbtree', colsample_bylevel=1,\n",
       "              colsample_bynode=1, colsample_bytree=0.5,\n",
       "              enable_categorical=False, gamma=0, gpu_id=-1,\n",
       "              importance_type='gain', interaction_constraints='',\n",
       "              learning_rate=0.15, max_delta_step=0, max_depth=2,\n",
       "              min_child_weight=1, missing=nan, monotone_constraints='()',\n",
       "              n_estimators=500, n_jobs=-1, num_parallel_tree=1,\n",
       "              objective='multi:softprob', predictor='auto', random_state=0,\n",
       "              reg_alpha=1, reg_lambda=0.001, scale_pos_weight=None, subsample=1,\n",
       "              tree_method='exact', validate_parameters=1, verbosity=None)"
      ]
     },
     "execution_count": 20,
     "metadata": {},
     "output_type": "execute_result"
    }
   ],
   "source": [
    "std = StandardScaler().fit(X_train[['tempo']])\n",
    "X_train['tempo'] = std.transform(X_train[['tempo']])\n",
    "X_test['tempo'] = std.transform(X_test[['tempo']])\n",
    "\n",
    "std = StandardScaler().fit(X_train[['duration_ms']])\n",
    "X_train['duration_ms'] = std.transform(X_train[['duration_ms']])\n",
    "X_test['duration_ms'] = std.transform(X_test[['duration_ms']])\n",
    "\n",
    "\n",
    "\n",
    "\n",
    "\n",
    "# df = df.sample(frac=1)\n",
    "# df_random.to_csv('now.csv')\n",
    "\n",
    "\n",
    "\n",
    "\n",
    "from xgboost import XGBClassifier\n",
    "xgb = XGBClassifier(n_jobs = -1)\n",
    "params = {\n",
    "    'learning_rate':[0.01,0.03,0.05,0.1,0.15,0.2],\n",
    "    'n_estimators':[100,200,350,500,1000,2000],\n",
    "    'max_depth':[2,3,5,8,10],\n",
    "    'colsample_bytree':[0.1,0.3,0.5,1],\n",
    "    'colsample_bylevel':[0.1,0.3,0.5,1],\n",
    "    'reg_alpha' : [0.001,0.01,0.1,1,10],\n",
    "    'reg_lambda' : [0.001,0.01,0.1,1,10],\n",
    "    'subsample':[0.1,0.3,0.5,1]\n",
    "    }\n",
    "# clf = RandomizedSearchCV(xgb, params, cv=5, scoring='f1_micro', n_jobs=-1, verbose=10)\n",
    "# clf.fit(X_train, y_train)\n",
    "# print(clf.best_estimator_)\n",
    "# print(clf.best_params_)\n",
    "clf = XGBClassifier(base_score=0.5, booster='gbtree', colsample_bylevel=1,\n",
    "              colsample_bynode=1, colsample_bytree=0.5, gamma=0, gpu_id=-1,\n",
    "              importance_type='gain', interaction_constraints='',\n",
    "              learning_rate=0.15, max_delta_step=0, max_depth=2,\n",
    "              min_child_weight=1, monotone_constraints='()',\n",
    "              n_estimators=500, n_jobs=-1, num_parallel_tree=1,\n",
    "              objective='multi:softprob', random_state=0, reg_alpha=1,\n",
    "              reg_lambda=0.001, scale_pos_weight=None, subsample=1,\n",
    "              tree_method='exact', validate_parameters=1, verbosity=None)\n",
    "clf.fit(X_train,y_train)\n"
   ]
  },
  {
   "cell_type": "code",
   "execution_count": 22,
   "metadata": {},
   "outputs": [
    {
     "name": "stdout",
     "output_type": "stream",
     "text": [
      "Train F1 Score is 0.7413010590015128\n",
      "Test F1 Score is 0.6999149097097476\n"
     ]
    }
   ],
   "source": [
    "from sklearn.metrics import f1_score\n",
    "y_train_pred = clf.predict(X_train)\n",
    "y_pred = clf.predict(X_test)\n",
    "\n",
    "# Train Confusion Matrix\n",
    "# plot_confusion_matrix(y_train,y_train_pred, 'Train Confusion Matrix')\n",
    "# Test Confusion Matrix\n",
    "# plot_confusion_matrix(y_test,y_pred, 'Test Confusion Matrix')\n",
    "print('Train F1 Score is {0}'.format(f1_score(y_train,y_train_pred,average='micro')))\n",
    "print('Test F1 Score is {0}'.format(f1_score(y_test,y_pred,average='micro')))"
   ]
  },
  {
   "cell_type": "code",
   "execution_count": 65,
   "metadata": {},
   "outputs": [
    {
     "data": {
      "text/plain": [
       "array([0])"
      ]
     },
     "execution_count": 65,
     "metadata": {},
     "output_type": "execute_result"
    }
   ],
   "source": [
    "song = pd.read_csv('song.csv')\n",
    "clf.predict(song[:1])"
   ]
  }
 ],
 "metadata": {
  "interpreter": {
   "hash": "1201a69505b1826300effa7d427ad44105705a5cf9785fd0eb1a86702d59052f"
  },
  "kernelspec": {
   "display_name": "Python 3.8.3 ('base')",
   "language": "python",
   "name": "python3"
  },
  "language_info": {
   "codemirror_mode": {
    "name": "ipython",
    "version": 3
   },
   "file_extension": ".py",
   "mimetype": "text/x-python",
   "name": "python",
   "nbconvert_exporter": "python",
   "pygments_lexer": "ipython3",
   "version": "3.8.3"
  },
  "orig_nbformat": 4
 },
 "nbformat": 4,
 "nbformat_minor": 2
}
