{
 "cells": [
  {
   "cell_type": "markdown",
   "metadata": {
    "papermill": {
     "duration": 0.03707,
     "end_time": "2021-09-28T17:30:50.689226",
     "exception": false,
     "start_time": "2021-09-28T17:30:50.652156",
     "status": "completed"
    },
    "tags": []
   },
   "source": [
    "# Predicting Genre using attributes"
   ]
  },
  {
   "cell_type": "markdown",
   "metadata": {
    "execution": {
     "iopub.execute_input": "2021-09-28T17:26:32.032566Z",
     "iopub.status.busy": "2021-09-28T17:26:32.032256Z",
     "iopub.status.idle": "2021-09-28T17:26:32.044429Z",
     "shell.execute_reply": "2021-09-28T17:26:32.042836Z",
     "shell.execute_reply.started": "2021-09-28T17:26:32.032536Z"
    },
    "papermill": {
     "duration": 0.03529,
     "end_time": "2021-09-28T17:30:50.760266",
     "exception": false,
     "start_time": "2021-09-28T17:30:50.724976",
     "status": "completed"
    },
    "tags": []
   },
   "source": [
    "## [ML-Checklist Pipeline.md](https://github.com/SaiKrishna1908/ML-Checklist/blob/main/Pipeline.md)"
   ]
  },
  {
   "cell_type": "code",
   "execution_count": 1,
   "metadata": {
    "_cell_guid": "b1076dfc-b9ad-4769-8c92-a6c4dae69d19",
    "_uuid": "8f2839f25d086af736a60e9eeb907d3b93b6e0e5",
    "execution": {
     "iopub.execute_input": "2021-09-28T17:30:50.844929Z",
     "iopub.status.busy": "2021-09-28T17:30:50.844091Z",
     "iopub.status.idle": "2021-09-28T17:30:51.974384Z",
     "shell.execute_reply": "2021-09-28T17:30:51.974901Z",
     "shell.execute_reply.started": "2021-09-28T17:27:51.182298Z"
    },
    "papermill": {
     "duration": 1.179171,
     "end_time": "2021-09-28T17:30:51.975102",
     "exception": false,
     "start_time": "2021-09-28T17:30:50.795931",
     "status": "completed"
    },
    "tags": []
   },
   "outputs": [],
   "source": [
    "# This Python 3 environment comes with many helpful analytics libraries installed\n",
    "# It is defined by the kaggle/python Docker image: https://github.com/kaggle/docker-python\n",
    "# For example, here's several helpful packages to load\n",
    "\n",
    "import numpy as np # linear algebra\n",
    "import pandas as pd # data processing, CSV file I/O (e.g. pd.read_csv)\n",
    "\n",
    "# Input data files are available in the read-only \"../input/\" directory\n",
    "# For example, running this (by clicking run or pressing Shift+Enter) will list all files under the input directory\n",
    "import matplotlib.pyplot as plt\n",
    "import seaborn as sns\n",
    "from sklearn.model_selection import StratifiedShuffleSplit\n",
    "\n",
    "from sklearn.preprocessing import OrdinalEncoder\n",
    "\n",
    "from sklearn.tree import DecisionTreeClassifier\n",
    "from sklearn.metrics import classification_report, f1_score, mean_squared_error, r2_score,precision_score,recall_score\n",
    "from sklearn.linear_model import SGDClassifier\n",
    "\n",
    "from sklearn.neighbors import KNeighborsClassifier\n",
    "\n",
    "\n",
    "%matplotlib inline\n",
    "\n",
    "\n",
    "# You can write up to 20GB to the current directory (/kaggle/working/) that gets preserved as output when you create a version using \"Save & Run All\" \n",
    "# You can also write temporary files to /kaggle/temp/, but they won't be saved outside of the current session"
   ]
  },
  {
   "cell_type": "code",
   "execution_count": 2,
   "metadata": {
    "_cell_guid": "79c7e3d0-c299-4dcb-8224-4455121ee9b0",
    "_uuid": "d629ff2d2480ee46fbb7e2d37f6b5fab8052498a",
    "execution": {
     "iopub.execute_input": "2021-09-28T17:30:52.053678Z",
     "iopub.status.busy": "2021-09-28T17:30:52.052632Z",
     "iopub.status.idle": "2021-09-28T17:30:52.057435Z",
     "shell.execute_reply": "2021-09-28T17:30:52.057966Z",
     "shell.execute_reply.started": "2021-09-28T17:27:51.644458Z"
    },
    "papermill": {
     "duration": 0.044841,
     "end_time": "2021-09-28T17:30:52.058134",
     "exception": false,
     "start_time": "2021-09-28T17:30:52.013293",
     "status": "completed"
    },
    "tags": []
   },
   "outputs": [],
   "source": [
    "\n",
    "# playlists = os.path.join(input_path, 'playlists.csv')\n",
    "\n",
    "# kaggle/input/dataset-of-songs-in-spotify/genres_v2.csv"
   ]
  },
  {
   "cell_type": "code",
   "execution_count": 3,
   "metadata": {
    "execution": {
     "iopub.execute_input": "2021-09-28T17:30:52.135812Z",
     "iopub.status.busy": "2021-09-28T17:30:52.134824Z",
     "iopub.status.idle": "2021-09-28T17:30:52.602080Z",
     "shell.execute_reply": "2021-09-28T17:30:52.601252Z",
     "shell.execute_reply.started": "2021-09-28T17:27:52.158416Z"
    },
    "papermill": {
     "duration": 0.506347,
     "end_time": "2021-09-28T17:30:52.602203",
     "exception": false,
     "start_time": "2021-09-28T17:30:52.095856",
     "status": "completed"
    },
    "tags": []
   },
   "outputs": [
    {
     "name": "stderr",
     "output_type": "stream",
     "text": [
      "C:\\Users\\Matin\\anaconda3\\lib\\site-packages\\IPython\\core\\interactiveshell.py:3071: DtypeWarning: Columns (19) have mixed types.Specify dtype option on import or set low_memory=False.\n",
      "  has_raised = await self.run_ast_nodes(code_ast.body, cell_name,\n"
     ]
    }
   ],
   "source": [
    "genre_df = pd.read_csv('Data/genres_v2.csv')\n",
    "pd.set_option(\"display.max_columns\", 50)"
   ]
  },
  {
   "cell_type": "code",
   "execution_count": 4,
   "metadata": {
    "execution": {
     "iopub.execute_input": "2021-09-28T17:30:52.683958Z",
     "iopub.status.busy": "2021-09-28T17:30:52.683283Z",
     "iopub.status.idle": "2021-09-28T17:30:52.736631Z",
     "shell.execute_reply": "2021-09-28T17:30:52.737451Z",
     "shell.execute_reply.started": "2021-09-28T17:27:52.540878Z"
    },
    "papermill": {
     "duration": 0.097781,
     "end_time": "2021-09-28T17:30:52.737640",
     "exception": false,
     "start_time": "2021-09-28T17:30:52.639859",
     "status": "completed"
    },
    "tags": []
   },
   "outputs": [
    {
     "name": "stdout",
     "output_type": "stream",
     "text": [
      "<class 'pandas.core.frame.DataFrame'>\n",
      "RangeIndex: 42305 entries, 0 to 42304\n",
      "Data columns (total 22 columns):\n",
      " #   Column            Non-Null Count  Dtype  \n",
      "---  ------            --------------  -----  \n",
      " 0   danceability      42305 non-null  float64\n",
      " 1   energy            42305 non-null  float64\n",
      " 2   key               42305 non-null  int64  \n",
      " 3   loudness          42305 non-null  float64\n",
      " 4   mode              42305 non-null  int64  \n",
      " 5   speechiness       42305 non-null  float64\n",
      " 6   acousticness      42305 non-null  float64\n",
      " 7   instrumentalness  42305 non-null  float64\n",
      " 8   liveness          42305 non-null  float64\n",
      " 9   valence           42305 non-null  float64\n",
      " 10  tempo             42305 non-null  float64\n",
      " 11  type              42305 non-null  object \n",
      " 12  id                42305 non-null  object \n",
      " 13  uri               42305 non-null  object \n",
      " 14  track_href        42305 non-null  object \n",
      " 15  analysis_url      42305 non-null  object \n",
      " 16  duration_ms       42305 non-null  int64  \n",
      " 17  time_signature    42305 non-null  int64  \n",
      " 18  genre             42305 non-null  object \n",
      " 19  song_name         21519 non-null  object \n",
      " 20  Unnamed: 0        20780 non-null  float64\n",
      " 21  title             20780 non-null  object \n",
      "dtypes: float64(10), int64(4), object(8)\n",
      "memory usage: 7.1+ MB\n"
     ]
    }
   ],
   "source": [
    "genre_df.info()"
   ]
  },
  {
   "cell_type": "code",
   "execution_count": 5,
   "metadata": {
    "execution": {
     "iopub.execute_input": "2021-09-28T17:30:52.815846Z",
     "iopub.status.busy": "2021-09-28T17:30:52.815234Z",
     "iopub.status.idle": "2021-09-28T17:30:52.842633Z",
     "shell.execute_reply": "2021-09-28T17:30:52.843250Z",
     "shell.execute_reply.started": "2021-09-28T17:27:52.578747Z"
    },
    "papermill": {
     "duration": 0.067845,
     "end_time": "2021-09-28T17:30:52.843393",
     "exception": false,
     "start_time": "2021-09-28T17:30:52.775548",
     "status": "completed"
    },
    "tags": []
   },
   "outputs": [
    {
     "data": {
      "text/html": [
       "<div>\n",
       "<style scoped>\n",
       "    .dataframe tbody tr th:only-of-type {\n",
       "        vertical-align: middle;\n",
       "    }\n",
       "\n",
       "    .dataframe tbody tr th {\n",
       "        vertical-align: top;\n",
       "    }\n",
       "\n",
       "    .dataframe thead th {\n",
       "        text-align: right;\n",
       "    }\n",
       "</style>\n",
       "<table border=\"1\" class=\"dataframe\">\n",
       "  <thead>\n",
       "    <tr style=\"text-align: right;\">\n",
       "      <th></th>\n",
       "      <th>danceability</th>\n",
       "      <th>energy</th>\n",
       "      <th>key</th>\n",
       "      <th>loudness</th>\n",
       "      <th>mode</th>\n",
       "      <th>speechiness</th>\n",
       "      <th>acousticness</th>\n",
       "      <th>instrumentalness</th>\n",
       "      <th>liveness</th>\n",
       "      <th>valence</th>\n",
       "      <th>tempo</th>\n",
       "      <th>type</th>\n",
       "      <th>id</th>\n",
       "      <th>uri</th>\n",
       "      <th>track_href</th>\n",
       "      <th>analysis_url</th>\n",
       "      <th>duration_ms</th>\n",
       "      <th>time_signature</th>\n",
       "      <th>genre</th>\n",
       "      <th>song_name</th>\n",
       "      <th>Unnamed: 0</th>\n",
       "      <th>title</th>\n",
       "    </tr>\n",
       "  </thead>\n",
       "  <tbody>\n",
       "    <tr>\n",
       "      <th>0</th>\n",
       "      <td>0.831</td>\n",
       "      <td>0.814</td>\n",
       "      <td>2</td>\n",
       "      <td>-7.364</td>\n",
       "      <td>1</td>\n",
       "      <td>0.4200</td>\n",
       "      <td>0.0598</td>\n",
       "      <td>0.013400</td>\n",
       "      <td>0.0556</td>\n",
       "      <td>0.3890</td>\n",
       "      <td>156.985</td>\n",
       "      <td>audio_features</td>\n",
       "      <td>2Vc6NJ9PW9gD9q343XFRKx</td>\n",
       "      <td>spotify:track:2Vc6NJ9PW9gD9q343XFRKx</td>\n",
       "      <td>https://api.spotify.com/v1/tracks/2Vc6NJ9PW9gD...</td>\n",
       "      <td>https://api.spotify.com/v1/audio-analysis/2Vc6...</td>\n",
       "      <td>124539</td>\n",
       "      <td>4</td>\n",
       "      <td>Dark Trap</td>\n",
       "      <td>Mercury: Retrograde</td>\n",
       "      <td>NaN</td>\n",
       "      <td>NaN</td>\n",
       "    </tr>\n",
       "    <tr>\n",
       "      <th>1</th>\n",
       "      <td>0.719</td>\n",
       "      <td>0.493</td>\n",
       "      <td>8</td>\n",
       "      <td>-7.230</td>\n",
       "      <td>1</td>\n",
       "      <td>0.0794</td>\n",
       "      <td>0.4010</td>\n",
       "      <td>0.000000</td>\n",
       "      <td>0.1180</td>\n",
       "      <td>0.1240</td>\n",
       "      <td>115.080</td>\n",
       "      <td>audio_features</td>\n",
       "      <td>7pgJBLVz5VmnL7uGHmRj6p</td>\n",
       "      <td>spotify:track:7pgJBLVz5VmnL7uGHmRj6p</td>\n",
       "      <td>https://api.spotify.com/v1/tracks/7pgJBLVz5Vmn...</td>\n",
       "      <td>https://api.spotify.com/v1/audio-analysis/7pgJ...</td>\n",
       "      <td>224427</td>\n",
       "      <td>4</td>\n",
       "      <td>Dark Trap</td>\n",
       "      <td>Pathology</td>\n",
       "      <td>NaN</td>\n",
       "      <td>NaN</td>\n",
       "    </tr>\n",
       "    <tr>\n",
       "      <th>2</th>\n",
       "      <td>0.850</td>\n",
       "      <td>0.893</td>\n",
       "      <td>5</td>\n",
       "      <td>-4.783</td>\n",
       "      <td>1</td>\n",
       "      <td>0.0623</td>\n",
       "      <td>0.0138</td>\n",
       "      <td>0.000004</td>\n",
       "      <td>0.3720</td>\n",
       "      <td>0.0391</td>\n",
       "      <td>218.050</td>\n",
       "      <td>audio_features</td>\n",
       "      <td>0vSWgAlfpye0WCGeNmuNhy</td>\n",
       "      <td>spotify:track:0vSWgAlfpye0WCGeNmuNhy</td>\n",
       "      <td>https://api.spotify.com/v1/tracks/0vSWgAlfpye0...</td>\n",
       "      <td>https://api.spotify.com/v1/audio-analysis/0vSW...</td>\n",
       "      <td>98821</td>\n",
       "      <td>4</td>\n",
       "      <td>Dark Trap</td>\n",
       "      <td>Symbiote</td>\n",
       "      <td>NaN</td>\n",
       "      <td>NaN</td>\n",
       "    </tr>\n",
       "    <tr>\n",
       "      <th>3</th>\n",
       "      <td>0.476</td>\n",
       "      <td>0.781</td>\n",
       "      <td>0</td>\n",
       "      <td>-4.710</td>\n",
       "      <td>1</td>\n",
       "      <td>0.1030</td>\n",
       "      <td>0.0237</td>\n",
       "      <td>0.000000</td>\n",
       "      <td>0.1140</td>\n",
       "      <td>0.1750</td>\n",
       "      <td>186.948</td>\n",
       "      <td>audio_features</td>\n",
       "      <td>0VSXnJqQkwuH2ei1nOQ1nu</td>\n",
       "      <td>spotify:track:0VSXnJqQkwuH2ei1nOQ1nu</td>\n",
       "      <td>https://api.spotify.com/v1/tracks/0VSXnJqQkwuH...</td>\n",
       "      <td>https://api.spotify.com/v1/audio-analysis/0VSX...</td>\n",
       "      <td>123661</td>\n",
       "      <td>3</td>\n",
       "      <td>Dark Trap</td>\n",
       "      <td>ProductOfDrugs (Prod. The Virus and Antidote)</td>\n",
       "      <td>NaN</td>\n",
       "      <td>NaN</td>\n",
       "    </tr>\n",
       "    <tr>\n",
       "      <th>4</th>\n",
       "      <td>0.798</td>\n",
       "      <td>0.624</td>\n",
       "      <td>2</td>\n",
       "      <td>-7.668</td>\n",
       "      <td>1</td>\n",
       "      <td>0.2930</td>\n",
       "      <td>0.2170</td>\n",
       "      <td>0.000000</td>\n",
       "      <td>0.1660</td>\n",
       "      <td>0.5910</td>\n",
       "      <td>147.988</td>\n",
       "      <td>audio_features</td>\n",
       "      <td>4jCeguq9rMTlbMmPHuO7S3</td>\n",
       "      <td>spotify:track:4jCeguq9rMTlbMmPHuO7S3</td>\n",
       "      <td>https://api.spotify.com/v1/tracks/4jCeguq9rMTl...</td>\n",
       "      <td>https://api.spotify.com/v1/audio-analysis/4jCe...</td>\n",
       "      <td>123298</td>\n",
       "      <td>4</td>\n",
       "      <td>Dark Trap</td>\n",
       "      <td>Venom</td>\n",
       "      <td>NaN</td>\n",
       "      <td>NaN</td>\n",
       "    </tr>\n",
       "  </tbody>\n",
       "</table>\n",
       "</div>"
      ],
      "text/plain": [
       "   danceability  energy  key  loudness  mode  speechiness  acousticness  \\\n",
       "0         0.831   0.814    2    -7.364     1       0.4200        0.0598   \n",
       "1         0.719   0.493    8    -7.230     1       0.0794        0.4010   \n",
       "2         0.850   0.893    5    -4.783     1       0.0623        0.0138   \n",
       "3         0.476   0.781    0    -4.710     1       0.1030        0.0237   \n",
       "4         0.798   0.624    2    -7.668     1       0.2930        0.2170   \n",
       "\n",
       "   instrumentalness  liveness  valence    tempo            type  \\\n",
       "0          0.013400    0.0556   0.3890  156.985  audio_features   \n",
       "1          0.000000    0.1180   0.1240  115.080  audio_features   \n",
       "2          0.000004    0.3720   0.0391  218.050  audio_features   \n",
       "3          0.000000    0.1140   0.1750  186.948  audio_features   \n",
       "4          0.000000    0.1660   0.5910  147.988  audio_features   \n",
       "\n",
       "                       id                                   uri  \\\n",
       "0  2Vc6NJ9PW9gD9q343XFRKx  spotify:track:2Vc6NJ9PW9gD9q343XFRKx   \n",
       "1  7pgJBLVz5VmnL7uGHmRj6p  spotify:track:7pgJBLVz5VmnL7uGHmRj6p   \n",
       "2  0vSWgAlfpye0WCGeNmuNhy  spotify:track:0vSWgAlfpye0WCGeNmuNhy   \n",
       "3  0VSXnJqQkwuH2ei1nOQ1nu  spotify:track:0VSXnJqQkwuH2ei1nOQ1nu   \n",
       "4  4jCeguq9rMTlbMmPHuO7S3  spotify:track:4jCeguq9rMTlbMmPHuO7S3   \n",
       "\n",
       "                                          track_href  \\\n",
       "0  https://api.spotify.com/v1/tracks/2Vc6NJ9PW9gD...   \n",
       "1  https://api.spotify.com/v1/tracks/7pgJBLVz5Vmn...   \n",
       "2  https://api.spotify.com/v1/tracks/0vSWgAlfpye0...   \n",
       "3  https://api.spotify.com/v1/tracks/0VSXnJqQkwuH...   \n",
       "4  https://api.spotify.com/v1/tracks/4jCeguq9rMTl...   \n",
       "\n",
       "                                        analysis_url  duration_ms  \\\n",
       "0  https://api.spotify.com/v1/audio-analysis/2Vc6...       124539   \n",
       "1  https://api.spotify.com/v1/audio-analysis/7pgJ...       224427   \n",
       "2  https://api.spotify.com/v1/audio-analysis/0vSW...        98821   \n",
       "3  https://api.spotify.com/v1/audio-analysis/0VSX...       123661   \n",
       "4  https://api.spotify.com/v1/audio-analysis/4jCe...       123298   \n",
       "\n",
       "   time_signature      genre                                      song_name  \\\n",
       "0               4  Dark Trap                            Mercury: Retrograde   \n",
       "1               4  Dark Trap                                      Pathology   \n",
       "2               4  Dark Trap                                       Symbiote   \n",
       "3               3  Dark Trap  ProductOfDrugs (Prod. The Virus and Antidote)   \n",
       "4               4  Dark Trap                                          Venom   \n",
       "\n",
       "   Unnamed: 0 title  \n",
       "0         NaN   NaN  \n",
       "1         NaN   NaN  \n",
       "2         NaN   NaN  \n",
       "3         NaN   NaN  \n",
       "4         NaN   NaN  "
      ]
     },
     "execution_count": 5,
     "metadata": {},
     "output_type": "execute_result"
    }
   ],
   "source": [
    "genre_df.head()"
   ]
  },
  {
   "cell_type": "code",
   "execution_count": 6,
   "metadata": {
    "execution": {
     "iopub.execute_input": "2021-09-28T17:30:52.921564Z",
     "iopub.status.busy": "2021-09-28T17:30:52.920939Z",
     "iopub.status.idle": "2021-09-28T17:30:52.935559Z",
     "shell.execute_reply": "2021-09-28T17:30:52.936106Z",
     "shell.execute_reply.started": "2021-09-28T17:27:52.607969Z"
    },
    "papermill": {
     "duration": 0.055608,
     "end_time": "2021-09-28T17:30:52.936258",
     "exception": false,
     "start_time": "2021-09-28T17:30:52.880650",
     "status": "completed"
    },
    "tags": []
   },
   "outputs": [],
   "source": [
    "genre_df.drop('Unnamed: 0',axis=1,inplace=True)"
   ]
  },
  {
   "cell_type": "code",
   "execution_count": 7,
   "metadata": {
    "execution": {
     "iopub.execute_input": "2021-09-28T17:30:53.014540Z",
     "iopub.status.busy": "2021-09-28T17:30:53.013891Z",
     "iopub.status.idle": "2021-09-28T17:30:53.020280Z",
     "shell.execute_reply": "2021-09-28T17:30:53.019745Z",
     "shell.execute_reply.started": "2021-09-28T17:27:52.628098Z"
    },
    "papermill": {
     "duration": 0.046601,
     "end_time": "2021-09-28T17:30:53.020398",
     "exception": false,
     "start_time": "2021-09-28T17:30:52.973797",
     "status": "completed"
    },
    "tags": []
   },
   "outputs": [],
   "source": [
    "cat_attr = []\n",
    "num_attr = []\n",
    "\n",
    "def get_num_cat_data(data):\n",
    "    \n",
    "    for i in data.columns:\n",
    "        if data[i].dtype == 'object':\n",
    "            cat_attr.append(i)\n",
    "        else:\n",
    "            num_attr.append(i)\n",
    "        "
   ]
  },
  {
   "cell_type": "code",
   "execution_count": 8,
   "metadata": {
    "execution": {
     "iopub.execute_input": "2021-09-28T17:30:53.103924Z",
     "iopub.status.busy": "2021-09-28T17:30:53.103280Z",
     "iopub.status.idle": "2021-09-28T17:30:53.106085Z",
     "shell.execute_reply": "2021-09-28T17:30:53.105432Z",
     "shell.execute_reply.started": "2021-09-28T17:27:52.636259Z"
    },
    "papermill": {
     "duration": 0.046865,
     "end_time": "2021-09-28T17:30:53.106199",
     "exception": false,
     "start_time": "2021-09-28T17:30:53.059334",
     "status": "completed"
    },
    "tags": []
   },
   "outputs": [],
   "source": [
    "get_num_cat_data(genre_df)"
   ]
  },
  {
   "cell_type": "code",
   "execution_count": 9,
   "metadata": {
    "execution": {
     "iopub.execute_input": "2021-09-28T17:30:53.187190Z",
     "iopub.status.busy": "2021-09-28T17:30:53.186354Z",
     "iopub.status.idle": "2021-09-28T17:30:53.189311Z",
     "shell.execute_reply": "2021-09-28T17:30:53.189862Z",
     "shell.execute_reply.started": "2021-09-28T17:27:52.653135Z"
    },
    "papermill": {
     "duration": 0.046448,
     "end_time": "2021-09-28T17:30:53.190003",
     "exception": false,
     "start_time": "2021-09-28T17:30:53.143555",
     "status": "completed"
    },
    "tags": []
   },
   "outputs": [
    {
     "name": "stdout",
     "output_type": "stream",
     "text": [
      "categorical data is ['type', 'id', 'uri', 'track_href', 'analysis_url', 'genre', 'song_name', 'title']\n",
      "numerica data is ['danceability', 'energy', 'key', 'loudness', 'mode', 'speechiness', 'acousticness', 'instrumentalness', 'liveness', 'valence', 'tempo', 'duration_ms', 'time_signature']\n"
     ]
    }
   ],
   "source": [
    "print(\"categorical data is {}\".format(cat_attr))\n",
    "print(\"numerica data is {}\".format(num_attr))"
   ]
  },
  {
   "cell_type": "code",
   "execution_count": 10,
   "metadata": {
    "execution": {
     "iopub.execute_input": "2021-09-28T17:30:53.272277Z",
     "iopub.status.busy": "2021-09-28T17:30:53.271243Z",
     "iopub.status.idle": "2021-09-28T17:30:53.274369Z",
     "shell.execute_reply": "2021-09-28T17:30:53.273729Z",
     "shell.execute_reply.started": "2021-09-28T17:27:52.670432Z"
    },
    "papermill": {
     "duration": 0.04673,
     "end_time": "2021-09-28T17:30:53.274504",
     "exception": false,
     "start_time": "2021-09-28T17:30:53.227774",
     "status": "completed"
    },
    "tags": []
   },
   "outputs": [],
   "source": [
    "def prune_categorical(data, threshold):\n",
    "    \n",
    "    result_columns = []\n",
    "    \n",
    "    for column in data.columns:\n",
    "        if len(data[column].unique()) <= threshold:\n",
    "            result_columns.append(column)\n",
    "    return result_columns"
   ]
  },
  {
   "cell_type": "code",
   "execution_count": 11,
   "metadata": {
    "execution": {
     "iopub.execute_input": "2021-09-28T17:30:53.363841Z",
     "iopub.status.busy": "2021-09-28T17:30:53.363137Z",
     "iopub.status.idle": "2021-09-28T17:30:53.426254Z",
     "shell.execute_reply": "2021-09-28T17:30:53.425547Z",
     "shell.execute_reply.started": "2021-09-28T17:27:53.128533Z"
    },
    "papermill": {
     "duration": 0.113754,
     "end_time": "2021-09-28T17:30:53.426377",
     "exception": false,
     "start_time": "2021-09-28T17:30:53.312623",
     "status": "completed"
    },
    "tags": []
   },
   "outputs": [],
   "source": [
    "pruned_cat_attr = prune_categorical(genre_df[cat_attr], 30)"
   ]
  },
  {
   "cell_type": "code",
   "execution_count": 12,
   "metadata": {
    "execution": {
     "iopub.execute_input": "2021-09-28T17:30:53.532018Z",
     "iopub.status.busy": "2021-09-28T17:30:53.531201Z",
     "iopub.status.idle": "2021-09-28T17:30:53.535558Z",
     "shell.execute_reply": "2021-09-28T17:30:53.535000Z",
     "shell.execute_reply.started": "2021-09-28T17:27:53.651595Z"
    },
    "papermill": {
     "duration": 0.07142,
     "end_time": "2021-09-28T17:30:53.535670",
     "exception": false,
     "start_time": "2021-09-28T17:30:53.464250",
     "status": "completed"
    },
    "tags": []
   },
   "outputs": [
    {
     "data": {
      "text/html": [
       "<div>\n",
       "<style scoped>\n",
       "    .dataframe tbody tr th:only-of-type {\n",
       "        vertical-align: middle;\n",
       "    }\n",
       "\n",
       "    .dataframe tbody tr th {\n",
       "        vertical-align: top;\n",
       "    }\n",
       "\n",
       "    .dataframe thead th {\n",
       "        text-align: right;\n",
       "    }\n",
       "</style>\n",
       "<table border=\"1\" class=\"dataframe\">\n",
       "  <thead>\n",
       "    <tr style=\"text-align: right;\">\n",
       "      <th></th>\n",
       "      <th>danceability</th>\n",
       "      <th>energy</th>\n",
       "      <th>key</th>\n",
       "      <th>loudness</th>\n",
       "      <th>mode</th>\n",
       "      <th>speechiness</th>\n",
       "      <th>acousticness</th>\n",
       "      <th>instrumentalness</th>\n",
       "      <th>liveness</th>\n",
       "      <th>valence</th>\n",
       "      <th>tempo</th>\n",
       "      <th>duration_ms</th>\n",
       "      <th>time_signature</th>\n",
       "    </tr>\n",
       "  </thead>\n",
       "  <tbody>\n",
       "    <tr>\n",
       "      <th>0</th>\n",
       "      <td>0.831</td>\n",
       "      <td>0.814</td>\n",
       "      <td>2</td>\n",
       "      <td>-7.364</td>\n",
       "      <td>1</td>\n",
       "      <td>0.4200</td>\n",
       "      <td>0.059800</td>\n",
       "      <td>0.013400</td>\n",
       "      <td>0.0556</td>\n",
       "      <td>0.3890</td>\n",
       "      <td>156.985</td>\n",
       "      <td>124539</td>\n",
       "      <td>4</td>\n",
       "    </tr>\n",
       "    <tr>\n",
       "      <th>1</th>\n",
       "      <td>0.719</td>\n",
       "      <td>0.493</td>\n",
       "      <td>8</td>\n",
       "      <td>-7.230</td>\n",
       "      <td>1</td>\n",
       "      <td>0.0794</td>\n",
       "      <td>0.401000</td>\n",
       "      <td>0.000000</td>\n",
       "      <td>0.1180</td>\n",
       "      <td>0.1240</td>\n",
       "      <td>115.080</td>\n",
       "      <td>224427</td>\n",
       "      <td>4</td>\n",
       "    </tr>\n",
       "    <tr>\n",
       "      <th>2</th>\n",
       "      <td>0.850</td>\n",
       "      <td>0.893</td>\n",
       "      <td>5</td>\n",
       "      <td>-4.783</td>\n",
       "      <td>1</td>\n",
       "      <td>0.0623</td>\n",
       "      <td>0.013800</td>\n",
       "      <td>0.000004</td>\n",
       "      <td>0.3720</td>\n",
       "      <td>0.0391</td>\n",
       "      <td>218.050</td>\n",
       "      <td>98821</td>\n",
       "      <td>4</td>\n",
       "    </tr>\n",
       "    <tr>\n",
       "      <th>3</th>\n",
       "      <td>0.476</td>\n",
       "      <td>0.781</td>\n",
       "      <td>0</td>\n",
       "      <td>-4.710</td>\n",
       "      <td>1</td>\n",
       "      <td>0.1030</td>\n",
       "      <td>0.023700</td>\n",
       "      <td>0.000000</td>\n",
       "      <td>0.1140</td>\n",
       "      <td>0.1750</td>\n",
       "      <td>186.948</td>\n",
       "      <td>123661</td>\n",
       "      <td>3</td>\n",
       "    </tr>\n",
       "    <tr>\n",
       "      <th>4</th>\n",
       "      <td>0.798</td>\n",
       "      <td>0.624</td>\n",
       "      <td>2</td>\n",
       "      <td>-7.668</td>\n",
       "      <td>1</td>\n",
       "      <td>0.2930</td>\n",
       "      <td>0.217000</td>\n",
       "      <td>0.000000</td>\n",
       "      <td>0.1660</td>\n",
       "      <td>0.5910</td>\n",
       "      <td>147.988</td>\n",
       "      <td>123298</td>\n",
       "      <td>4</td>\n",
       "    </tr>\n",
       "    <tr>\n",
       "      <th>...</th>\n",
       "      <td>...</td>\n",
       "      <td>...</td>\n",
       "      <td>...</td>\n",
       "      <td>...</td>\n",
       "      <td>...</td>\n",
       "      <td>...</td>\n",
       "      <td>...</td>\n",
       "      <td>...</td>\n",
       "      <td>...</td>\n",
       "      <td>...</td>\n",
       "      <td>...</td>\n",
       "      <td>...</td>\n",
       "      <td>...</td>\n",
       "    </tr>\n",
       "    <tr>\n",
       "      <th>42300</th>\n",
       "      <td>0.528</td>\n",
       "      <td>0.693</td>\n",
       "      <td>4</td>\n",
       "      <td>-5.148</td>\n",
       "      <td>1</td>\n",
       "      <td>0.0304</td>\n",
       "      <td>0.031500</td>\n",
       "      <td>0.000345</td>\n",
       "      <td>0.1210</td>\n",
       "      <td>0.3940</td>\n",
       "      <td>150.013</td>\n",
       "      <td>269208</td>\n",
       "      <td>4</td>\n",
       "    </tr>\n",
       "    <tr>\n",
       "      <th>42301</th>\n",
       "      <td>0.517</td>\n",
       "      <td>0.768</td>\n",
       "      <td>0</td>\n",
       "      <td>-7.922</td>\n",
       "      <td>0</td>\n",
       "      <td>0.0479</td>\n",
       "      <td>0.022500</td>\n",
       "      <td>0.000018</td>\n",
       "      <td>0.2050</td>\n",
       "      <td>0.3830</td>\n",
       "      <td>149.928</td>\n",
       "      <td>210112</td>\n",
       "      <td>4</td>\n",
       "    </tr>\n",
       "    <tr>\n",
       "      <th>42302</th>\n",
       "      <td>0.361</td>\n",
       "      <td>0.821</td>\n",
       "      <td>8</td>\n",
       "      <td>-3.102</td>\n",
       "      <td>1</td>\n",
       "      <td>0.0505</td>\n",
       "      <td>0.026000</td>\n",
       "      <td>0.000242</td>\n",
       "      <td>0.3850</td>\n",
       "      <td>0.1240</td>\n",
       "      <td>154.935</td>\n",
       "      <td>234823</td>\n",
       "      <td>4</td>\n",
       "    </tr>\n",
       "    <tr>\n",
       "      <th>42303</th>\n",
       "      <td>0.477</td>\n",
       "      <td>0.921</td>\n",
       "      <td>6</td>\n",
       "      <td>-4.777</td>\n",
       "      <td>0</td>\n",
       "      <td>0.0392</td>\n",
       "      <td>0.000551</td>\n",
       "      <td>0.029600</td>\n",
       "      <td>0.0575</td>\n",
       "      <td>0.4880</td>\n",
       "      <td>150.042</td>\n",
       "      <td>323200</td>\n",
       "      <td>4</td>\n",
       "    </tr>\n",
       "    <tr>\n",
       "      <th>42304</th>\n",
       "      <td>0.529</td>\n",
       "      <td>0.945</td>\n",
       "      <td>9</td>\n",
       "      <td>-5.862</td>\n",
       "      <td>1</td>\n",
       "      <td>0.0615</td>\n",
       "      <td>0.001890</td>\n",
       "      <td>0.000055</td>\n",
       "      <td>0.4140</td>\n",
       "      <td>0.1340</td>\n",
       "      <td>155.047</td>\n",
       "      <td>162161</td>\n",
       "      <td>4</td>\n",
       "    </tr>\n",
       "  </tbody>\n",
       "</table>\n",
       "<p>42305 rows × 13 columns</p>\n",
       "</div>"
      ],
      "text/plain": [
       "       danceability  energy  key  loudness  mode  speechiness  acousticness  \\\n",
       "0             0.831   0.814    2    -7.364     1       0.4200      0.059800   \n",
       "1             0.719   0.493    8    -7.230     1       0.0794      0.401000   \n",
       "2             0.850   0.893    5    -4.783     1       0.0623      0.013800   \n",
       "3             0.476   0.781    0    -4.710     1       0.1030      0.023700   \n",
       "4             0.798   0.624    2    -7.668     1       0.2930      0.217000   \n",
       "...             ...     ...  ...       ...   ...          ...           ...   \n",
       "42300         0.528   0.693    4    -5.148     1       0.0304      0.031500   \n",
       "42301         0.517   0.768    0    -7.922     0       0.0479      0.022500   \n",
       "42302         0.361   0.821    8    -3.102     1       0.0505      0.026000   \n",
       "42303         0.477   0.921    6    -4.777     0       0.0392      0.000551   \n",
       "42304         0.529   0.945    9    -5.862     1       0.0615      0.001890   \n",
       "\n",
       "       instrumentalness  liveness  valence    tempo  duration_ms  \\\n",
       "0              0.013400    0.0556   0.3890  156.985       124539   \n",
       "1              0.000000    0.1180   0.1240  115.080       224427   \n",
       "2              0.000004    0.3720   0.0391  218.050        98821   \n",
       "3              0.000000    0.1140   0.1750  186.948       123661   \n",
       "4              0.000000    0.1660   0.5910  147.988       123298   \n",
       "...                 ...       ...      ...      ...          ...   \n",
       "42300          0.000345    0.1210   0.3940  150.013       269208   \n",
       "42301          0.000018    0.2050   0.3830  149.928       210112   \n",
       "42302          0.000242    0.3850   0.1240  154.935       234823   \n",
       "42303          0.029600    0.0575   0.4880  150.042       323200   \n",
       "42304          0.000055    0.4140   0.1340  155.047       162161   \n",
       "\n",
       "       time_signature  \n",
       "0                   4  \n",
       "1                   4  \n",
       "2                   4  \n",
       "3                   3  \n",
       "4                   4  \n",
       "...               ...  \n",
       "42300               4  \n",
       "42301               4  \n",
       "42302               4  \n",
       "42303               4  \n",
       "42304               4  \n",
       "\n",
       "[42305 rows x 13 columns]"
      ]
     },
     "execution_count": 12,
     "metadata": {},
     "output_type": "execute_result"
    }
   ],
   "source": [
    "genre_df[num_attr]"
   ]
  },
  {
   "cell_type": "code",
   "execution_count": 13,
   "metadata": {
    "execution": {
     "iopub.execute_input": "2021-09-28T17:30:53.627089Z",
     "iopub.status.busy": "2021-09-28T17:30:53.626224Z",
     "iopub.status.idle": "2021-09-28T17:30:53.630146Z",
     "shell.execute_reply": "2021-09-28T17:30:53.629498Z",
     "shell.execute_reply.started": "2021-09-28T17:27:53.683959Z"
    },
    "papermill": {
     "duration": 0.055663,
     "end_time": "2021-09-28T17:30:53.630262",
     "exception": false,
     "start_time": "2021-09-28T17:30:53.574599",
     "status": "completed"
    },
    "tags": []
   },
   "outputs": [
    {
     "data": {
      "text/html": [
       "<div>\n",
       "<style scoped>\n",
       "    .dataframe tbody tr th:only-of-type {\n",
       "        vertical-align: middle;\n",
       "    }\n",
       "\n",
       "    .dataframe tbody tr th {\n",
       "        vertical-align: top;\n",
       "    }\n",
       "\n",
       "    .dataframe thead th {\n",
       "        text-align: right;\n",
       "    }\n",
       "</style>\n",
       "<table border=\"1\" class=\"dataframe\">\n",
       "  <thead>\n",
       "    <tr style=\"text-align: right;\">\n",
       "      <th></th>\n",
       "      <th>type</th>\n",
       "      <th>genre</th>\n",
       "    </tr>\n",
       "  </thead>\n",
       "  <tbody>\n",
       "    <tr>\n",
       "      <th>0</th>\n",
       "      <td>audio_features</td>\n",
       "      <td>Dark Trap</td>\n",
       "    </tr>\n",
       "    <tr>\n",
       "      <th>1</th>\n",
       "      <td>audio_features</td>\n",
       "      <td>Dark Trap</td>\n",
       "    </tr>\n",
       "    <tr>\n",
       "      <th>2</th>\n",
       "      <td>audio_features</td>\n",
       "      <td>Dark Trap</td>\n",
       "    </tr>\n",
       "    <tr>\n",
       "      <th>3</th>\n",
       "      <td>audio_features</td>\n",
       "      <td>Dark Trap</td>\n",
       "    </tr>\n",
       "    <tr>\n",
       "      <th>4</th>\n",
       "      <td>audio_features</td>\n",
       "      <td>Dark Trap</td>\n",
       "    </tr>\n",
       "    <tr>\n",
       "      <th>...</th>\n",
       "      <td>...</td>\n",
       "      <td>...</td>\n",
       "    </tr>\n",
       "    <tr>\n",
       "      <th>42300</th>\n",
       "      <td>audio_features</td>\n",
       "      <td>hardstyle</td>\n",
       "    </tr>\n",
       "    <tr>\n",
       "      <th>42301</th>\n",
       "      <td>audio_features</td>\n",
       "      <td>hardstyle</td>\n",
       "    </tr>\n",
       "    <tr>\n",
       "      <th>42302</th>\n",
       "      <td>audio_features</td>\n",
       "      <td>hardstyle</td>\n",
       "    </tr>\n",
       "    <tr>\n",
       "      <th>42303</th>\n",
       "      <td>audio_features</td>\n",
       "      <td>hardstyle</td>\n",
       "    </tr>\n",
       "    <tr>\n",
       "      <th>42304</th>\n",
       "      <td>audio_features</td>\n",
       "      <td>hardstyle</td>\n",
       "    </tr>\n",
       "  </tbody>\n",
       "</table>\n",
       "<p>42305 rows × 2 columns</p>\n",
       "</div>"
      ],
      "text/plain": [
       "                 type      genre\n",
       "0      audio_features  Dark Trap\n",
       "1      audio_features  Dark Trap\n",
       "2      audio_features  Dark Trap\n",
       "3      audio_features  Dark Trap\n",
       "4      audio_features  Dark Trap\n",
       "...               ...        ...\n",
       "42300  audio_features  hardstyle\n",
       "42301  audio_features  hardstyle\n",
       "42302  audio_features  hardstyle\n",
       "42303  audio_features  hardstyle\n",
       "42304  audio_features  hardstyle\n",
       "\n",
       "[42305 rows x 2 columns]"
      ]
     },
     "execution_count": 13,
     "metadata": {},
     "output_type": "execute_result"
    }
   ],
   "source": [
    "genre_df[pruned_cat_attr]"
   ]
  },
  {
   "cell_type": "code",
   "execution_count": 14,
   "metadata": {
    "execution": {
     "iopub.execute_input": "2021-09-28T17:30:53.739583Z",
     "iopub.status.busy": "2021-09-28T17:30:53.738609Z",
     "iopub.status.idle": "2021-09-28T17:30:53.745884Z",
     "shell.execute_reply": "2021-09-28T17:30:53.745019Z",
     "shell.execute_reply.started": "2021-09-28T17:27:53.707332Z"
    },
    "papermill": {
     "duration": 0.074436,
     "end_time": "2021-09-28T17:30:53.746066",
     "exception": false,
     "start_time": "2021-09-28T17:30:53.671630",
     "status": "completed"
    },
    "tags": []
   },
   "outputs": [
    {
     "data": {
      "text/plain": [
       "['type',\n",
       " 'id',\n",
       " 'uri',\n",
       " 'track_href',\n",
       " 'analysis_url',\n",
       " 'genre',\n",
       " 'song_name',\n",
       " 'title']"
      ]
     },
     "execution_count": 14,
     "metadata": {},
     "output_type": "execute_result"
    }
   ],
   "source": [
    "cat_attr"
   ]
  },
  {
   "cell_type": "code",
   "execution_count": 15,
   "metadata": {
    "execution": {
     "iopub.execute_input": "2021-09-28T17:30:53.836005Z",
     "iopub.status.busy": "2021-09-28T17:30:53.835148Z",
     "iopub.status.idle": "2021-09-28T17:30:56.770253Z",
     "shell.execute_reply": "2021-09-28T17:30:56.770808Z",
     "shell.execute_reply.started": "2021-09-28T17:27:53.720982Z"
    },
    "papermill": {
     "duration": 2.983516,
     "end_time": "2021-09-28T17:30:56.770955",
     "exception": false,
     "start_time": "2021-09-28T17:30:53.787439",
     "status": "completed"
    },
    "tags": []
   },
   "outputs": [
    {
     "data": {
      "image/png": "[encoded data removed]",
      "text/plain": [
       "<Figure size 1080x1440 with 15 Axes>"
      ]
     },
     "metadata": {
      "needs_background": "light"
     },
     "output_type": "display_data"
    }
   ],
   "source": [
    "figure, ax = plt.subplots(nrows=5, ncols= 3, figsize=(15,20))\n",
    "ax = ax.ravel()\n",
    "\n",
    "for idx in range(len(num_attr)):\n",
    "    ax[idx].hist(genre_df[num_attr].iloc[:,idx], bins =12)\n",
    "    ax[idx].set_title(num_attr[idx])\n",
    "figure.tight_layout()"
   ]
  },
  {
   "cell_type": "code",
   "execution_count": 16,
   "metadata": {
    "execution": {
     "iopub.execute_input": "2021-09-28T17:30:56.872792Z",
     "iopub.status.busy": "2021-09-28T17:30:56.865141Z",
     "iopub.status.idle": "2021-09-28T17:30:57.116236Z",
     "shell.execute_reply": "2021-09-28T17:30:57.115687Z",
     "shell.execute_reply.started": "2021-09-28T17:29:55.654038Z"
    },
    "papermill": {
     "duration": 0.301989,
     "end_time": "2021-09-28T17:30:57.116358",
     "exception": false,
     "start_time": "2021-09-28T17:30:56.814369",
     "status": "completed"
    },
    "tags": []
   },
   "outputs": [
    {
     "name": "stderr",
     "output_type": "stream",
     "text": [
      "<ipython-input-16-09e248fdab84>:7: UserWarning: This figure includes Axes that are not compatible with tight_layout, so results might be incorrect.\n",
      "  figure.tight_layout()\n"
     ]
    },
    {
     "data": {
      "image/png": "[encoded data removed]",
      "text/plain": [
       "<Figure size 720x720 with 1 Axes>"
      ]
     },
     "metadata": {
      "needs_background": "light"
     },
     "output_type": "display_data"
    }
   ],
   "source": [
    "figure = plt.figure(figsize=(10,10))\n",
    "\n",
    "axes = figure.add_axes([0,0,1,1])\n",
    "sns.countplot(x='genre',data=genre_df, ax = axes)\n",
    "axes.set_title('Count Graph')\n",
    "axes.set_xticklabels(labels = genre_df.columns, rotation=45)\n",
    "figure.tight_layout()"
   ]
  },
  {
   "cell_type": "markdown",
   "metadata": {
    "papermill": {
     "duration": 0.044465,
     "end_time": "2021-09-28T17:30:57.205191",
     "exception": false,
     "start_time": "2021-09-28T17:30:57.160726",
     "status": "completed"
    },
    "tags": []
   },
   "source": [
    "# Preprocessing"
   ]
  },
  {
   "cell_type": "code",
   "execution_count": 17,
   "metadata": {
    "execution": {
     "iopub.execute_input": "2021-09-28T17:30:57.298959Z",
     "iopub.status.busy": "2021-09-28T17:30:57.298307Z",
     "iopub.status.idle": "2021-09-28T17:30:57.341993Z",
     "shell.execute_reply": "2021-09-28T17:30:57.341371Z",
     "shell.execute_reply.started": "2021-09-28T17:30:01.303201Z"
    },
    "papermill": {
     "duration": 0.092677,
     "end_time": "2021-09-28T17:30:57.342126",
     "exception": false,
     "start_time": "2021-09-28T17:30:57.249449",
     "status": "completed"
    },
    "tags": []
   },
   "outputs": [
    {
     "data": {
      "text/plain": [
       "danceability            0\n",
       "energy                  0\n",
       "key                     0\n",
       "loudness                0\n",
       "mode                    0\n",
       "speechiness             0\n",
       "acousticness            0\n",
       "instrumentalness        0\n",
       "liveness                0\n",
       "valence                 0\n",
       "tempo                   0\n",
       "type                    0\n",
       "id                      0\n",
       "uri                     0\n",
       "track_href              0\n",
       "analysis_url            0\n",
       "duration_ms             0\n",
       "time_signature          0\n",
       "genre                   0\n",
       "song_name           20786\n",
       "title               21525\n",
       "dtype: int64"
      ]
     },
     "execution_count": 17,
     "metadata": {},
     "output_type": "execute_result"
    }
   ],
   "source": [
    "genre_df.isnull().sum()"
   ]
  },
  {
   "cell_type": "code",
   "execution_count": 18,
   "metadata": {
    "execution": {
     "iopub.execute_input": "2021-09-28T17:30:57.442766Z",
     "iopub.status.busy": "2021-09-28T17:30:57.439025Z",
     "iopub.status.idle": "2021-09-28T17:30:57.446297Z",
     "shell.execute_reply": "2021-09-28T17:30:57.445704Z",
     "shell.execute_reply.started": "2021-09-28T17:30:01.462577Z"
    },
    "papermill": {
     "duration": 0.059482,
     "end_time": "2021-09-28T17:30:57.446415",
     "exception": false,
     "start_time": "2021-09-28T17:30:57.386933",
     "status": "completed"
    },
    "tags": []
   },
   "outputs": [],
   "source": [
    "genre_df_prepared = genre_df.drop(['song_name', 'title','type'], axis=1)"
   ]
  },
  {
   "cell_type": "code",
   "execution_count": 19,
   "metadata": {
    "execution": {
     "iopub.execute_input": "2021-09-28T17:30:57.539790Z",
     "iopub.status.busy": "2021-09-28T17:30:57.538773Z",
     "iopub.status.idle": "2021-09-28T17:30:57.569246Z",
     "shell.execute_reply": "2021-09-28T17:30:57.569752Z",
     "shell.execute_reply.started": "2021-09-28T17:30:01.853318Z"
    },
    "papermill": {
     "duration": 0.078673,
     "end_time": "2021-09-28T17:30:57.569892",
     "exception": false,
     "start_time": "2021-09-28T17:30:57.491219",
     "status": "completed"
    },
    "tags": []
   },
   "outputs": [
    {
     "data": {
      "text/html": [
       "<div>\n",
       "<style scoped>\n",
       "    .dataframe tbody tr th:only-of-type {\n",
       "        vertical-align: middle;\n",
       "    }\n",
       "\n",
       "    .dataframe tbody tr th {\n",
       "        vertical-align: top;\n",
       "    }\n",
       "\n",
       "    .dataframe thead th {\n",
       "        text-align: right;\n",
       "    }\n",
       "</style>\n",
       "<table border=\"1\" class=\"dataframe\">\n",
       "  <thead>\n",
       "    <tr style=\"text-align: right;\">\n",
       "      <th></th>\n",
       "      <th>danceability</th>\n",
       "      <th>energy</th>\n",
       "      <th>key</th>\n",
       "      <th>loudness</th>\n",
       "      <th>mode</th>\n",
       "      <th>speechiness</th>\n",
       "      <th>acousticness</th>\n",
       "      <th>instrumentalness</th>\n",
       "      <th>liveness</th>\n",
       "      <th>valence</th>\n",
       "      <th>tempo</th>\n",
       "      <th>duration_ms</th>\n",
       "      <th>time_signature</th>\n",
       "    </tr>\n",
       "  </thead>\n",
       "  <tbody>\n",
       "    <tr>\n",
       "      <th>0</th>\n",
       "      <td>0.831</td>\n",
       "      <td>0.814</td>\n",
       "      <td>2</td>\n",
       "      <td>-7.364</td>\n",
       "      <td>1</td>\n",
       "      <td>0.4200</td>\n",
       "      <td>0.059800</td>\n",
       "      <td>0.013400</td>\n",
       "      <td>0.0556</td>\n",
       "      <td>0.3890</td>\n",
       "      <td>156.985</td>\n",
       "      <td>124539</td>\n",
       "      <td>4</td>\n",
       "    </tr>\n",
       "    <tr>\n",
       "      <th>1</th>\n",
       "      <td>0.719</td>\n",
       "      <td>0.493</td>\n",
       "      <td>8</td>\n",
       "      <td>-7.230</td>\n",
       "      <td>1</td>\n",
       "      <td>0.0794</td>\n",
       "      <td>0.401000</td>\n",
       "      <td>0.000000</td>\n",
       "      <td>0.1180</td>\n",
       "      <td>0.1240</td>\n",
       "      <td>115.080</td>\n",
       "      <td>224427</td>\n",
       "      <td>4</td>\n",
       "    </tr>\n",
       "    <tr>\n",
       "      <th>2</th>\n",
       "      <td>0.850</td>\n",
       "      <td>0.893</td>\n",
       "      <td>5</td>\n",
       "      <td>-4.783</td>\n",
       "      <td>1</td>\n",
       "      <td>0.0623</td>\n",
       "      <td>0.013800</td>\n",
       "      <td>0.000004</td>\n",
       "      <td>0.3720</td>\n",
       "      <td>0.0391</td>\n",
       "      <td>218.050</td>\n",
       "      <td>98821</td>\n",
       "      <td>4</td>\n",
       "    </tr>\n",
       "    <tr>\n",
       "      <th>3</th>\n",
       "      <td>0.476</td>\n",
       "      <td>0.781</td>\n",
       "      <td>0</td>\n",
       "      <td>-4.710</td>\n",
       "      <td>1</td>\n",
       "      <td>0.1030</td>\n",
       "      <td>0.023700</td>\n",
       "      <td>0.000000</td>\n",
       "      <td>0.1140</td>\n",
       "      <td>0.1750</td>\n",
       "      <td>186.948</td>\n",
       "      <td>123661</td>\n",
       "      <td>3</td>\n",
       "    </tr>\n",
       "    <tr>\n",
       "      <th>4</th>\n",
       "      <td>0.798</td>\n",
       "      <td>0.624</td>\n",
       "      <td>2</td>\n",
       "      <td>-7.668</td>\n",
       "      <td>1</td>\n",
       "      <td>0.2930</td>\n",
       "      <td>0.217000</td>\n",
       "      <td>0.000000</td>\n",
       "      <td>0.1660</td>\n",
       "      <td>0.5910</td>\n",
       "      <td>147.988</td>\n",
       "      <td>123298</td>\n",
       "      <td>4</td>\n",
       "    </tr>\n",
       "    <tr>\n",
       "      <th>...</th>\n",
       "      <td>...</td>\n",
       "      <td>...</td>\n",
       "      <td>...</td>\n",
       "      <td>...</td>\n",
       "      <td>...</td>\n",
       "      <td>...</td>\n",
       "      <td>...</td>\n",
       "      <td>...</td>\n",
       "      <td>...</td>\n",
       "      <td>...</td>\n",
       "      <td>...</td>\n",
       "      <td>...</td>\n",
       "      <td>...</td>\n",
       "    </tr>\n",
       "    <tr>\n",
       "      <th>42300</th>\n",
       "      <td>0.528</td>\n",
       "      <td>0.693</td>\n",
       "      <td>4</td>\n",
       "      <td>-5.148</td>\n",
       "      <td>1</td>\n",
       "      <td>0.0304</td>\n",
       "      <td>0.031500</td>\n",
       "      <td>0.000345</td>\n",
       "      <td>0.1210</td>\n",
       "      <td>0.3940</td>\n",
       "      <td>150.013</td>\n",
       "      <td>269208</td>\n",
       "      <td>4</td>\n",
       "    </tr>\n",
       "    <tr>\n",
       "      <th>42301</th>\n",
       "      <td>0.517</td>\n",
       "      <td>0.768</td>\n",
       "      <td>0</td>\n",
       "      <td>-7.922</td>\n",
       "      <td>0</td>\n",
       "      <td>0.0479</td>\n",
       "      <td>0.022500</td>\n",
       "      <td>0.000018</td>\n",
       "      <td>0.2050</td>\n",
       "      <td>0.3830</td>\n",
       "      <td>149.928</td>\n",
       "      <td>210112</td>\n",
       "      <td>4</td>\n",
       "    </tr>\n",
       "    <tr>\n",
       "      <th>42302</th>\n",
       "      <td>0.361</td>\n",
       "      <td>0.821</td>\n",
       "      <td>8</td>\n",
       "      <td>-3.102</td>\n",
       "      <td>1</td>\n",
       "      <td>0.0505</td>\n",
       "      <td>0.026000</td>\n",
       "      <td>0.000242</td>\n",
       "      <td>0.3850</td>\n",
       "      <td>0.1240</td>\n",
       "      <td>154.935</td>\n",
       "      <td>234823</td>\n",
       "      <td>4</td>\n",
       "    </tr>\n",
       "    <tr>\n",
       "      <th>42303</th>\n",
       "      <td>0.477</td>\n",
       "      <td>0.921</td>\n",
       "      <td>6</td>\n",
       "      <td>-4.777</td>\n",
       "      <td>0</td>\n",
       "      <td>0.0392</td>\n",
       "      <td>0.000551</td>\n",
       "      <td>0.029600</td>\n",
       "      <td>0.0575</td>\n",
       "      <td>0.4880</td>\n",
       "      <td>150.042</td>\n",
       "      <td>323200</td>\n",
       "      <td>4</td>\n",
       "    </tr>\n",
       "    <tr>\n",
       "      <th>42304</th>\n",
       "      <td>0.529</td>\n",
       "      <td>0.945</td>\n",
       "      <td>9</td>\n",
       "      <td>-5.862</td>\n",
       "      <td>1</td>\n",
       "      <td>0.0615</td>\n",
       "      <td>0.001890</td>\n",
       "      <td>0.000055</td>\n",
       "      <td>0.4140</td>\n",
       "      <td>0.1340</td>\n",
       "      <td>155.047</td>\n",
       "      <td>162161</td>\n",
       "      <td>4</td>\n",
       "    </tr>\n",
       "  </tbody>\n",
       "</table>\n",
       "<p>42305 rows × 13 columns</p>\n",
       "</div>"
      ],
      "text/plain": [
       "       danceability  energy  key  loudness  mode  speechiness  acousticness  \\\n",
       "0             0.831   0.814    2    -7.364     1       0.4200      0.059800   \n",
       "1             0.719   0.493    8    -7.230     1       0.0794      0.401000   \n",
       "2             0.850   0.893    5    -4.783     1       0.0623      0.013800   \n",
       "3             0.476   0.781    0    -4.710     1       0.1030      0.023700   \n",
       "4             0.798   0.624    2    -7.668     1       0.2930      0.217000   \n",
       "...             ...     ...  ...       ...   ...          ...           ...   \n",
       "42300         0.528   0.693    4    -5.148     1       0.0304      0.031500   \n",
       "42301         0.517   0.768    0    -7.922     0       0.0479      0.022500   \n",
       "42302         0.361   0.821    8    -3.102     1       0.0505      0.026000   \n",
       "42303         0.477   0.921    6    -4.777     0       0.0392      0.000551   \n",
       "42304         0.529   0.945    9    -5.862     1       0.0615      0.001890   \n",
       "\n",
       "       instrumentalness  liveness  valence    tempo  duration_ms  \\\n",
       "0              0.013400    0.0556   0.3890  156.985       124539   \n",
       "1              0.000000    0.1180   0.1240  115.080       224427   \n",
       "2              0.000004    0.3720   0.0391  218.050        98821   \n",
       "3              0.000000    0.1140   0.1750  186.948       123661   \n",
       "4              0.000000    0.1660   0.5910  147.988       123298   \n",
       "...                 ...       ...      ...      ...          ...   \n",
       "42300          0.000345    0.1210   0.3940  150.013       269208   \n",
       "42301          0.000018    0.2050   0.3830  149.928       210112   \n",
       "42302          0.000242    0.3850   0.1240  154.935       234823   \n",
       "42303          0.029600    0.0575   0.4880  150.042       323200   \n",
       "42304          0.000055    0.4140   0.1340  155.047       162161   \n",
       "\n",
       "       time_signature  \n",
       "0                   4  \n",
       "1                   4  \n",
       "2                   4  \n",
       "3                   3  \n",
       "4                   4  \n",
       "...               ...  \n",
       "42300               4  \n",
       "42301               4  \n",
       "42302               4  \n",
       "42303               4  \n",
       "42304               4  \n",
       "\n",
       "[42305 rows x 13 columns]"
      ]
     },
     "execution_count": 19,
     "metadata": {},
     "output_type": "execute_result"
    }
   ],
   "source": [
    "genre_df_prepared[num_attr]"
   ]
  },
  {
   "cell_type": "code",
   "execution_count": 20,
   "metadata": {
    "execution": {
     "iopub.execute_input": "2021-09-28T17:30:57.685701Z",
     "iopub.status.busy": "2021-09-28T17:30:57.671180Z",
     "iopub.status.idle": "2021-09-28T17:30:57.690398Z",
     "shell.execute_reply": "2021-09-28T17:30:57.689809Z",
     "shell.execute_reply.started": "2021-09-28T17:30:02.204780Z"
    },
    "papermill": {
     "duration": 0.076346,
     "end_time": "2021-09-28T17:30:57.690520",
     "exception": false,
     "start_time": "2021-09-28T17:30:57.614174",
     "status": "completed"
    },
    "tags": []
   },
   "outputs": [],
   "source": [
    "ord_enc = OrdinalEncoder()\n",
    "genre_df_prepared['genre_num'] = ord_enc.fit_transform(genre_df_prepared[['genre']])"
   ]
  },
  {
   "cell_type": "code",
   "execution_count": 21,
   "metadata": {
    "execution": {
     "iopub.execute_input": "2021-09-28T17:30:57.785993Z",
     "iopub.status.busy": "2021-09-28T17:30:57.785309Z",
     "iopub.status.idle": "2021-09-28T17:30:57.789392Z",
     "shell.execute_reply": "2021-09-28T17:30:57.789839Z",
     "shell.execute_reply.started": "2021-09-28T17:30:03.376788Z"
    },
    "papermill": {
     "duration": 0.054549,
     "end_time": "2021-09-28T17:30:57.789984",
     "exception": false,
     "start_time": "2021-09-28T17:30:57.735435",
     "status": "completed"
    },
    "tags": []
   },
   "outputs": [
    {
     "data": {
      "text/plain": [
       "array(['Dark Trap', 'Emo', 'Hiphop', 'Pop', 'Rap', 'RnB', 'Trap Metal',\n",
       "       'Underground Rap', 'dnb', 'hardstyle', 'psytrance', 'techhouse',\n",
       "       'techno', 'trance', 'trap'], dtype=object)"
      ]
     },
     "execution_count": 21,
     "metadata": {},
     "output_type": "execute_result"
    }
   ],
   "source": [
    "ord_enc.categories_[0]"
   ]
  },
  {
   "cell_type": "code",
   "execution_count": 22,
   "metadata": {
    "execution": {
     "iopub.execute_input": "2021-09-28T17:30:57.885511Z",
     "iopub.status.busy": "2021-09-28T17:30:57.884825Z",
     "iopub.status.idle": "2021-09-28T17:30:57.887855Z",
     "shell.execute_reply": "2021-09-28T17:30:57.887193Z",
     "shell.execute_reply.started": "2021-09-28T17:30:03.658277Z"
    },
    "papermill": {
     "duration": 0.053139,
     "end_time": "2021-09-28T17:30:57.887973",
     "exception": false,
     "start_time": "2021-09-28T17:30:57.834834",
     "status": "completed"
    },
    "tags": []
   },
   "outputs": [],
   "source": [
    "mapped_labels = zip(range(len(ord_enc.categories_[0])), ord_enc.categories_[0])"
   ]
  },
  {
   "cell_type": "code",
   "execution_count": 23,
   "metadata": {
    "execution": {
     "iopub.execute_input": "2021-09-28T17:30:57.983721Z",
     "iopub.status.busy": "2021-09-28T17:30:57.982924Z",
     "iopub.status.idle": "2021-09-28T17:30:57.986999Z",
     "shell.execute_reply": "2021-09-28T17:30:57.987731Z",
     "shell.execute_reply.started": "2021-09-28T17:30:04.049047Z"
    },
    "papermill": {
     "duration": 0.054868,
     "end_time": "2021-09-28T17:30:57.987895",
     "exception": false,
     "start_time": "2021-09-28T17:30:57.933027",
     "status": "completed"
    },
    "tags": []
   },
   "outputs": [
    {
     "name": "stdout",
     "output_type": "stream",
     "text": [
      " 0, Dark Trap\n",
      " 1, Emo\n",
      " 2, Hiphop\n",
      " 3, Pop\n",
      " 4, Rap\n",
      " 5, RnB\n",
      " 6, Trap Metal\n",
      " 7, Underground Rap\n",
      " 8, dnb\n",
      " 9, hardstyle\n",
      " 10, psytrance\n",
      " 11, techhouse\n",
      " 12, techno\n",
      " 13, trance\n",
      " 14, trap\n"
     ]
    }
   ],
   "source": [
    "for k,v in mapped_labels:\n",
    "    print(\" {}, {}\".format(k,v))"
   ]
  },
  {
   "cell_type": "code",
   "execution_count": 24,
   "metadata": {
    "execution": {
     "iopub.execute_input": "2021-09-28T17:30:58.085963Z",
     "iopub.status.busy": "2021-09-28T17:30:58.084923Z",
     "iopub.status.idle": "2021-09-28T17:30:58.088447Z",
     "shell.execute_reply": "2021-09-28T17:30:58.087869Z",
     "shell.execute_reply.started": "2021-09-28T17:30:05.703851Z"
    },
    "papermill": {
     "duration": 0.054468,
     "end_time": "2021-09-28T17:30:58.088563",
     "exception": false,
     "start_time": "2021-09-28T17:30:58.034095",
     "status": "completed"
    },
    "tags": []
   },
   "outputs": [],
   "source": [
    "X = genre_df_prepared\n",
    "y = genre_df_prepared['genre_num']"
   ]
  },
  {
   "cell_type": "code",
   "execution_count": 25,
   "metadata": {
    "execution": {
     "iopub.execute_input": "2021-09-28T17:30:58.186585Z",
     "iopub.status.busy": "2021-09-28T17:30:58.185851Z",
     "iopub.status.idle": "2021-09-28T17:30:58.370370Z",
     "shell.execute_reply": "2021-09-28T17:30:58.369745Z",
     "shell.execute_reply.started": "2021-09-28T17:30:06.361252Z"
    },
    "papermill": {
     "duration": 0.235815,
     "end_time": "2021-09-28T17:30:58.370509",
     "exception": false,
     "start_time": "2021-09-28T17:30:58.134694",
     "status": "completed"
    },
    "tags": []
   },
   "outputs": [],
   "source": [
    "from sklearn.preprocessing import StandardScaler\n",
    "\n",
    "scaler = StandardScaler()\n",
    "X[num_attr] = scaler.fit_transform(X[num_attr])"
   ]
  },
  {
   "cell_type": "code",
   "execution_count": 26,
   "metadata": {
    "execution": {
     "iopub.execute_input": "2021-09-28T17:30:58.472681Z",
     "iopub.status.busy": "2021-09-28T17:30:58.471709Z",
     "iopub.status.idle": "2021-09-28T17:30:58.520810Z",
     "shell.execute_reply": "2021-09-28T17:30:58.520082Z",
     "shell.execute_reply.started": "2021-09-28T17:30:08.075343Z"
    },
    "papermill": {
     "duration": 0.102573,
     "end_time": "2021-09-28T17:30:58.520941",
     "exception": false,
     "start_time": "2021-09-28T17:30:58.418368",
     "status": "completed"
    },
    "tags": []
   },
   "outputs": [],
   "source": [
    "split = StratifiedShuffleSplit(n_splits=1, test_size=0.2, random_state=69)\n",
    "\n",
    "for train_index,test_index in split.split(X, y):\n",
    "    strat_train_set = X.iloc[train_index]\n",
    "    strat_test_set = X.iloc[test_index]"
   ]
  },
  {
   "cell_type": "code",
   "execution_count": 27,
   "metadata": {
    "execution": {
     "iopub.execute_input": "2021-09-28T17:30:58.616934Z",
     "iopub.status.busy": "2021-09-28T17:30:58.616284Z",
     "iopub.status.idle": "2021-09-28T17:30:58.620155Z",
     "shell.execute_reply": "2021-09-28T17:30:58.619507Z",
     "shell.execute_reply.started": "2021-09-28T17:30:08.875885Z"
    },
    "papermill": {
     "duration": 0.053824,
     "end_time": "2021-09-28T17:30:58.620268",
     "exception": false,
     "start_time": "2021-09-28T17:30:58.566444",
     "status": "completed"
    },
    "tags": []
   },
   "outputs": [
    {
     "data": {
      "text/plain": [
       "(643036, 160759)"
      ]
     },
     "execution_count": 27,
     "metadata": {},
     "output_type": "execute_result"
    }
   ],
   "source": [
    "strat_train_set.size, strat_test_set.size"
   ]
  },
  {
   "cell_type": "code",
   "execution_count": 28,
   "metadata": {
    "execution": {
     "iopub.execute_input": "2021-09-28T17:30:58.720277Z",
     "iopub.status.busy": "2021-09-28T17:30:58.719599Z",
     "iopub.status.idle": "2021-09-28T17:30:58.721938Z",
     "shell.execute_reply": "2021-09-28T17:30:58.722411Z",
     "shell.execute_reply.started": "2021-09-28T17:30:09.212510Z"
    },
    "papermill": {
     "duration": 0.056675,
     "end_time": "2021-09-28T17:30:58.722559",
     "exception": false,
     "start_time": "2021-09-28T17:30:58.665884",
     "status": "completed"
    },
    "tags": []
   },
   "outputs": [],
   "source": [
    "x_train, y_train = strat_train_set[num_attr], strat_train_set['genre_num']\n",
    "x_test, y_test = strat_test_set[num_attr], strat_test_set['genre_num']"
   ]
  },
  {
   "cell_type": "code",
   "execution_count": 29,
   "metadata": {
    "execution": {
     "iopub.execute_input": "2021-09-28T17:30:58.826745Z",
     "iopub.status.busy": "2021-09-28T17:30:58.825204Z",
     "iopub.status.idle": "2021-09-28T17:30:59.737945Z",
     "shell.execute_reply": "2021-09-28T17:30:59.738471Z",
     "shell.execute_reply.started": "2021-09-28T17:30:09.615627Z"
    },
    "papermill": {
     "duration": 0.970345,
     "end_time": "2021-09-28T17:30:59.738617",
     "exception": false,
     "start_time": "2021-09-28T17:30:58.768272",
     "status": "completed"
    },
    "tags": []
   },
   "outputs": [
    {
     "data": {
      "text/plain": [
       "<matplotlib.axes._axes.Axes at 0x20a725c5df0>"
      ]
     },
     "execution_count": 29,
     "metadata": {},
     "output_type": "execute_result"
    },
    {
     "data": {
      "image/png": "[encoded data removed]",
      "text/plain": [
       "<Figure size 432x288 with 2 Axes>"
      ]
     },
     "metadata": {
      "needs_background": "light"
     },
     "output_type": "display_data"
    }
   ],
   "source": [
    "figure = plt.figure()\n",
    "\n",
    "axes = figure.add_axes([0,0,2,2])\n",
    "sns.heatmap(genre_df_prepared.corr(),annot=True,cmap='magma')"
   ]
  },
  {
   "cell_type": "code",
   "execution_count": 30,
   "metadata": {
    "execution": {
     "iopub.execute_input": "2021-09-28T17:30:59.843545Z",
     "iopub.status.busy": "2021-09-28T17:30:59.842455Z",
     "iopub.status.idle": "2021-09-28T17:30:59.849513Z",
     "shell.execute_reply": "2021-09-28T17:30:59.850013Z",
     "shell.execute_reply.started": "2021-09-28T17:27:57.711595Z"
    },
    "papermill": {
     "duration": 0.060086,
     "end_time": "2021-09-28T17:30:59.850196",
     "exception": false,
     "start_time": "2021-09-28T17:30:59.790110",
     "status": "completed"
    },
    "tags": []
   },
   "outputs": [
    {
     "data": {
      "text/plain": [
       "(-11.077728377101748, 3.82882162864878)"
      ]
     },
     "execution_count": 30,
     "metadata": {},
     "output_type": "execute_result"
    }
   ],
   "source": [
    "genre_df_prepared['time_signature'].min(), genre_df_prepared['time_signature'].max()"
   ]
  },
  {
   "cell_type": "code",
   "execution_count": 31,
   "metadata": {
    "execution": {
     "iopub.execute_input": "2021-09-28T17:30:59.955503Z",
     "iopub.status.busy": "2021-09-28T17:30:59.954427Z",
     "iopub.status.idle": "2021-09-28T17:30:59.958737Z",
     "shell.execute_reply": "2021-09-28T17:30:59.959312Z",
     "shell.execute_reply.started": "2021-09-28T17:27:57.720252Z"
    },
    "papermill": {
     "duration": 0.058382,
     "end_time": "2021-09-28T17:30:59.959462",
     "exception": false,
     "start_time": "2021-09-28T17:30:59.901080",
     "status": "completed"
    },
    "tags": []
   },
   "outputs": [],
   "source": [
    "input_features = ['energy', 'loudness','acousticness','instrumentalness','duration_ms']"
   ]
  },
  {
   "cell_type": "markdown",
   "metadata": {
    "papermill": {
     "duration": 0.049433,
     "end_time": "2021-09-28T17:31:00.058825",
     "exception": false,
     "start_time": "2021-09-28T17:31:00.009392",
     "status": "completed"
    },
    "tags": []
   },
   "source": [
    "# Data Modeling"
   ]
  },
  {
   "cell_type": "code",
   "execution_count": 32,
   "metadata": {
    "execution": {
     "iopub.execute_input": "2021-09-28T17:31:00.172803Z",
     "iopub.status.busy": "2021-09-28T17:31:00.171740Z",
     "iopub.status.idle": "2021-09-28T17:31:01.586511Z",
     "shell.execute_reply": "2021-09-28T17:31:01.586986Z",
     "shell.execute_reply.started": "2021-09-28T17:27:57.736931Z"
    },
    "papermill": {
     "duration": 1.471787,
     "end_time": "2021-09-28T17:31:01.587161",
     "exception": false,
     "start_time": "2021-09-28T17:31:00.115374",
     "status": "completed"
    },
    "tags": []
   },
   "outputs": [
    {
     "name": "stdout",
     "output_type": "stream",
     "text": [
      "              precision    recall  f1-score   support\n",
      "\n",
      "         0.0       0.41      0.39      0.40       916\n",
      "         1.0       0.52      0.54      0.53       336\n",
      "         2.0       0.34      0.36      0.35       606\n",
      "         3.0       0.18      0.14      0.16        92\n",
      "         4.0       0.44      0.33      0.37       370\n",
      "         5.0       0.29      0.25      0.27       420\n",
      "         6.0       0.24      0.19      0.21       391\n",
      "         7.0       0.38      0.44      0.40      1175\n",
      "         8.0       0.95      0.95      0.95       593\n",
      "         9.0       0.81      0.85      0.83       587\n",
      "        10.0       0.88      0.89      0.89       592\n",
      "        11.0       0.85      0.86      0.86       595\n",
      "        12.0       0.80      0.83      0.81       591\n",
      "        13.0       0.78      0.81      0.80       600\n",
      "        14.0       0.79      0.75      0.77       597\n",
      "\n",
      "    accuracy                           0.60      8461\n",
      "   macro avg       0.58      0.57      0.57      8461\n",
      "weighted avg       0.60      0.60      0.60      8461\n",
      "\n",
      "0.573383829817277\n"
     ]
    }
   ],
   "source": [
    "tree = DecisionTreeClassifier(criterion='entropy', max_depth=15)\n",
    "tree.fit(x_train, y_train)\n",
    "y_pred = tree.predict(x_test)\n",
    "print(classification_report(y_true = y_test,y_pred = y_pred))\n",
    "print(f1_score(y_true =y_test, y_pred=y_pred,average='macro'))"
   ]
  },
  {
   "cell_type": "code",
   "execution_count": 33,
   "metadata": {
    "execution": {
     "iopub.execute_input": "2021-09-28T17:31:01.693464Z",
     "iopub.status.busy": "2021-09-28T17:31:01.692580Z",
     "iopub.status.idle": "2021-09-28T17:31:13.057794Z",
     "shell.execute_reply": "2021-09-28T17:31:13.057174Z",
     "shell.execute_reply.started": "2021-09-28T17:27:59.203892Z"
    },
    "papermill": {
     "duration": 11.420674,
     "end_time": "2021-09-28T17:31:13.058085",
     "exception": false,
     "start_time": "2021-09-28T17:31:01.637411",
     "status": "completed"
    },
    "tags": []
   },
   "outputs": [
    {
     "name": "stderr",
     "output_type": "stream",
     "text": [
      "C:\\Users\\Matin\\anaconda3\\lib\\site-packages\\xgboost\\sklearn.py:1224: UserWarning: The use of label encoder in XGBClassifier is deprecated and will be removed in a future release. To remove this warning, do the following: 1) Pass option use_label_encoder=False when constructing XGBClassifier object; and 2) Encode your labels (y) as integers starting with 0, i.e. 0, 1, 2, ..., [num_class - 1].\n",
      "  warnings.warn(label_encoder_deprecation_msg, UserWarning)\n"
     ]
    },
    {
     "name": "stdout",
     "output_type": "stream",
     "text": [
      "[18:20:40] WARNING: C:/Users/Administrator/workspace/xgboost-win64_release_1.5.1/src/learner.cc:1115: Starting in XGBoost 1.3.0, the default evaluation metric used with the objective 'multi:softprob' was changed from 'merror' to 'mlogloss'. Explicitly set eval_metric if you'd like to restore the old behavior.\n"
     ]
    },
    {
     "data": {
      "text/plain": [
       "XGBClassifier(base_score=0.5, booster='gbtree', colsample_bylevel=1,\n",
       "              colsample_bynode=1, colsample_bytree=1, enable_categorical=False,\n",
       "              gamma=0, gpu_id=-1, importance_type=None,\n",
       "              interaction_constraints='', learning_rate=0.300000012,\n",
       "              max_delta_step=0, max_depth=2, min_child_weight=1, missing=nan,\n",
       "              monotone_constraints='()', n_estimators=50, n_jobs=-1,\n",
       "              num_parallel_tree=1, objective='multi:softprob', predictor='auto',\n",
       "              random_state=0, reg_alpha=0, reg_lambda=1, scale_pos_weight=None,\n",
       "              subsample=1, tree_method='exact', validate_parameters=1,\n",
       "              verbosity=None)"
      ]
     },
     "execution_count": 33,
     "metadata": {},
     "output_type": "execute_result"
    }
   ],
   "source": [
    "from xgboost import XGBClassifier\n",
    "\n",
    "xgb = XGBClassifier(n_jobs=-1,max_depth=2, n_estimators=50)\n",
    "xgb.fit(x_train, y_train)"
   ]
  },
  {
   "cell_type": "code",
   "execution_count": 34,
   "metadata": {
    "execution": {
     "iopub.execute_input": "2021-09-28T17:31:13.166931Z",
     "iopub.status.busy": "2021-09-28T17:31:13.165918Z",
     "iopub.status.idle": "2021-09-28T17:31:13.406772Z",
     "shell.execute_reply": "2021-09-28T17:31:13.407307Z",
     "shell.execute_reply.started": "2021-09-28T17:28:09.283023Z"
    },
    "papermill": {
     "duration": 0.298555,
     "end_time": "2021-09-28T17:31:13.407453",
     "exception": false,
     "start_time": "2021-09-28T17:31:13.108898",
     "status": "completed"
    },
    "tags": []
   },
   "outputs": [
    {
     "name": "stdout",
     "output_type": "stream",
     "text": [
      "0.4344017836612897\n"
     ]
    }
   ],
   "source": [
    "y_pred = xgb.predict(x_test)\n",
    "# print(f1_score(y_true =y_test, y_pred=y_pred))\n",
    "print(r2_score(y_true =y_test, y_pred=y_pred))"
   ]
  },
  {
   "cell_type": "code",
   "execution_count": 35,
   "metadata": {
    "execution": {
     "iopub.execute_input": "2021-09-28T17:31:13.517806Z",
     "iopub.status.busy": "2021-09-28T17:31:13.516755Z",
     "iopub.status.idle": "2021-09-28T17:31:14.449394Z",
     "shell.execute_reply": "2021-09-28T17:31:14.448749Z",
     "shell.execute_reply.started": "2021-09-28T17:28:09.531577Z"
    },
    "papermill": {
     "duration": 0.991354,
     "end_time": "2021-09-28T17:31:14.449519",
     "exception": false,
     "start_time": "2021-09-28T17:31:13.458165",
     "status": "completed"
    },
    "tags": []
   },
   "outputs": [
    {
     "name": "stdout",
     "output_type": "stream",
     "text": [
      "              precision    recall  f1-score   support\n",
      "\n",
      "         0.0       0.42      0.29      0.34       916\n",
      "         1.0       0.47      0.25      0.33       336\n",
      "         2.0       0.29      0.44      0.35       606\n",
      "         3.0       0.00      0.00      0.00        92\n",
      "         4.0       0.22      0.13      0.16       370\n",
      "         5.0       0.24      0.09      0.13       420\n",
      "         6.0       0.37      0.03      0.06       391\n",
      "         7.0       0.42      0.56      0.48      1175\n",
      "         8.0       0.69      0.80      0.74       593\n",
      "         9.0       0.42      0.50      0.46       587\n",
      "        10.0       0.85      0.67      0.75       592\n",
      "        11.0       0.68      0.76      0.72       595\n",
      "        12.0       0.69      0.80      0.74       591\n",
      "        13.0       0.52      0.69      0.59       600\n",
      "        14.0       0.59      0.68      0.63       597\n",
      "\n",
      "    accuracy                           0.51      8461\n",
      "   macro avg       0.46      0.45      0.43      8461\n",
      "weighted avg       0.49      0.51      0.48      8461\n",
      "\n"
     ]
    }
   ],
   "source": [
    "sgd = SGDClassifier(random_state=42)\n",
    "sgd.fit(x_train, y_train)\n",
    "y_pred = sgd.predict(x_test)\n",
    "print(classification_report(y_true = y_test,y_pred = y_pred))\n"
   ]
  },
  {
   "cell_type": "code",
   "execution_count": 36,
   "metadata": {
    "execution": {
     "iopub.execute_input": "2021-09-28T17:31:14.559375Z",
     "iopub.status.busy": "2021-09-28T17:31:14.558654Z",
     "iopub.status.idle": "2021-09-28T17:31:20.157851Z",
     "shell.execute_reply": "2021-09-28T17:31:20.156881Z",
     "shell.execute_reply.started": "2021-09-28T17:28:10.469368Z"
    },
    "papermill": {
     "duration": 5.657288,
     "end_time": "2021-09-28T17:31:20.157984",
     "exception": false,
     "start_time": "2021-09-28T17:31:14.500696",
     "status": "completed"
    },
    "tags": []
   },
   "outputs": [
    {
     "name": "stdout",
     "output_type": "stream",
     "text": [
      "              precision    recall  f1-score   support\n",
      "\n",
      "         0.0       0.35      0.40      0.37       916\n",
      "         1.0       0.51      0.56      0.53       336\n",
      "         2.0       0.35      0.37      0.36       606\n",
      "         3.0       0.15      0.08      0.10        92\n",
      "         4.0       0.36      0.29      0.32       370\n",
      "         5.0       0.27      0.20      0.23       420\n",
      "         6.0       0.28      0.15      0.19       391\n",
      "         7.0       0.38      0.38      0.38      1175\n",
      "         8.0       0.89      0.91      0.90       593\n",
      "         9.0       0.63      0.74      0.68       587\n",
      "        10.0       0.77      0.86      0.82       592\n",
      "        11.0       0.76      0.79      0.78       595\n",
      "        12.0       0.76      0.84      0.80       591\n",
      "        13.0       0.69      0.64      0.66       600\n",
      "        14.0       0.71      0.68      0.70       597\n",
      "\n",
      "    accuracy                           0.56      8461\n",
      "   macro avg       0.52      0.53      0.52      8461\n",
      "weighted avg       0.55      0.56      0.55      8461\n",
      "\n"
     ]
    }
   ],
   "source": [
    "knn_clf = KNeighborsClassifier()\n",
    "knn_clf.fit(x_train, y_train)\n",
    "y_pred = knn_clf.predict(x_test)\n",
    "print(classification_report(y_true = y_test,y_pred = y_pred))"
   ]
  },
  {
   "cell_type": "code",
   "execution_count": 37,
   "metadata": {
    "execution": {
     "iopub.execute_input": "2021-09-28T17:31:20.274589Z",
     "iopub.status.busy": "2021-09-28T17:31:20.273906Z",
     "iopub.status.idle": "2021-09-28T17:31:20.277379Z",
     "shell.execute_reply": "2021-09-28T17:31:20.276778Z",
     "shell.execute_reply.started": "2021-09-28T17:28:15.839425Z"
    },
    "papermill": {
     "duration": 0.067841,
     "end_time": "2021-09-28T17:31:20.277536",
     "exception": false,
     "start_time": "2021-09-28T17:31:20.209695",
     "status": "completed"
    },
    "tags": []
   },
   "outputs": [],
   "source": [
    "def get_label_prediction_score(x_train_l, y_train_l, x_test_l, y_test_l):\n",
    "    \n",
    "    x_train_l.reset_index(drop=True, inplace=True)\n",
    "    y_train_l.reset_index(drop=True, inplace=True)\n",
    "    x_test_l.reset_index(drop = True, inplace=True)\n",
    "    y_test_l.reset_index(drop = True, inplace=True)\n",
    "    \n",
    "    result = []\n",
    "    for i in y_train_l.unique():        \n",
    "        \n",
    "        dec_tree = DecisionTreeClassifier(criterion='entropy', max_depth=10)\n",
    "        \n",
    "        print(i)\n",
    "        num_train_y = np.zeros(y_train_l.shape)            \n",
    "        num_train_y[y_train_l[y_train_l == i].index] = 1\n",
    "        \n",
    "        num_test_y = np.zeros(y_test_l.shape)\n",
    "        num_test_y[y_test_l[y_test_l == i].index] = 1\n",
    "        \n",
    "        dec_tree.fit(x_train_l, num_train_y)\n",
    "        \n",
    "        \n",
    "        y_train_pred = dec_tree.predict(x_train_l)\n",
    "        y_test_pred = dec_tree.predict(x_test_l)\n",
    "        \n",
    "        train_score = f1_score(y_true = num_train_y, y_pred = y_train_pred)\n",
    "        test_score = f1_score(y_true =num_test_y, y_pred=y_test_pred,average='macro')\n",
    "        \n",
    "        \n",
    "        print(\"{} train score is {}\".format(i, train_score))\n",
    "        print(\"{} train score is {}\".format(i, test_score))"
   ]
  },
  {
   "cell_type": "code",
   "execution_count": 38,
   "metadata": {
    "execution": {
     "iopub.execute_input": "2021-09-28T17:31:20.394434Z",
     "iopub.status.busy": "2021-09-28T17:31:20.393705Z",
     "iopub.status.idle": "2021-09-28T17:31:24.966648Z",
     "shell.execute_reply": "2021-09-28T17:31:24.967460Z",
     "shell.execute_reply.started": "2021-09-28T17:28:15.851414Z"
    },
    "papermill": {
     "duration": 4.637041,
     "end_time": "2021-09-28T17:31:24.967679",
     "exception": false,
     "start_time": "2021-09-28T17:31:20.330638",
     "status": "completed"
    },
    "tags": []
   },
   "outputs": [
    {
     "name": "stdout",
     "output_type": "stream",
     "text": [
      "13.0\n",
      "13.0 train score is 0.8360352965319106\n",
      "13.0 train score is 0.8844547416264451\n",
      "1.0\n",
      "1.0 train score is 0.73932863655201\n",
      "1.0 train score is 0.7417227650723976\n",
      "9.0\n",
      "9.0 train score is 0.8806502775574941\n",
      "9.0 train score is 0.911343439434752\n",
      "6.0\n",
      "6.0 train score is 0.4464037122969837\n",
      "6.0 train score is 0.5652804983783437\n",
      "11.0\n",
      "11.0 train score is 0.9149847094801223\n",
      "11.0 train score is 0.9116641714222475\n",
      "10.0\n",
      "10.0 train score is 0.9475935828877007\n",
      "10.0 train score is 0.9436075224083402\n",
      "2.0\n",
      "2.0 train score is 0.5212121212121212\n",
      "2.0 train score is 0.6659361015677255\n",
      "12.0\n",
      "12.0 train score is 0.9085520745131245\n",
      "12.0 train score is 0.8980627834689391\n",
      "14.0\n",
      "14.0 train score is 0.8290502793296091\n",
      "14.0 train score is 0.8674646169885392\n",
      "5.0\n",
      "5.0 train score is 0.255127563781891\n",
      "5.0 train score is 0.5384952453771942\n",
      "7.0\n",
      "7.0 train score is 0.4358266629864754\n",
      "7.0 train score is 0.6287528323881124\n",
      "4.0\n",
      "4.0 train score is 0.4708912931478619\n",
      "4.0 train score is 0.68744766783234\n",
      "0.0\n",
      "0.0 train score is 0.4813294232649072\n",
      "0.0 train score is 0.6534857120153686\n",
      "8.0\n",
      "8.0 train score is 0.9924496644295302\n",
      "8.0 train score is 0.9734380524604835\n",
      "3.0\n",
      "3.0 train score is 0.33333333333333337\n",
      "3.0 train score is 0.5152260401382286\n"
     ]
    }
   ],
   "source": [
    "result = get_label_prediction_score(x_train,y_train,x_test, y_test)"
   ]
  },
  {
   "cell_type": "code",
   "execution_count": 39,
   "metadata": {
    "execution": {
     "iopub.execute_input": "2021-09-28T17:31:25.086080Z",
     "iopub.status.busy": "2021-09-28T17:31:25.085152Z",
     "iopub.status.idle": "2021-09-28T17:31:25.087683Z",
     "shell.execute_reply": "2021-09-28T17:31:25.087182Z",
     "shell.execute_reply.started": "2021-09-28T17:28:20.496221Z"
    },
    "papermill": {
     "duration": 0.063818,
     "end_time": "2021-09-28T17:31:25.087819",
     "exception": false,
     "start_time": "2021-09-28T17:31:25.024001",
     "status": "completed"
    },
    "tags": []
   },
   "outputs": [],
   "source": [
    "removal_list = [1,6,2,5,4,7,0,3]"
   ]
  },
  {
   "cell_type": "code",
   "execution_count": 40,
   "metadata": {
    "execution": {
     "iopub.execute_input": "2021-09-28T17:31:25.206925Z",
     "iopub.status.busy": "2021-09-28T17:31:25.206263Z",
     "iopub.status.idle": "2021-09-28T17:31:25.210517Z",
     "shell.execute_reply": "2021-09-28T17:31:25.209924Z",
     "shell.execute_reply.started": "2021-09-28T17:28:20.502450Z"
    },
    "papermill": {
     "duration": 0.065204,
     "end_time": "2021-09-28T17:31:25.210634",
     "exception": false,
     "start_time": "2021-09-28T17:31:25.145430",
     "status": "completed"
    },
    "tags": []
   },
   "outputs": [],
   "source": [
    "train_idxs = y_train[y_train > 7].index\n",
    "test_idxs = y_test[y_test > 7].index"
   ]
  },
  {
   "cell_type": "code",
   "execution_count": 41,
   "metadata": {
    "execution": {
     "iopub.execute_input": "2021-09-28T17:31:25.335942Z",
     "iopub.status.busy": "2021-09-28T17:31:25.334473Z",
     "iopub.status.idle": "2021-09-28T17:31:25.340102Z",
     "shell.execute_reply": "2021-09-28T17:31:25.339435Z",
     "shell.execute_reply.started": "2021-09-28T17:28:20.517028Z"
    },
    "papermill": {
     "duration": 0.073077,
     "end_time": "2021-09-28T17:31:25.340231",
     "exception": false,
     "start_time": "2021-09-28T17:31:25.267154",
     "status": "completed"
    },
    "tags": []
   },
   "outputs": [
    {
     "data": {
      "text/plain": [
       "(1, 16625)"
      ]
     },
     "execution_count": 41,
     "metadata": {},
     "output_type": "execute_result"
    }
   ],
   "source": [
    "np.array(y_train.iloc[list(train_idxs)]).reshape(1,-1).shape"
   ]
  },
  {
   "cell_type": "code",
   "execution_count": 42,
   "metadata": {
    "execution": {
     "iopub.execute_input": "2021-09-28T17:31:25.462212Z",
     "iopub.status.busy": "2021-09-28T17:31:25.461500Z",
     "iopub.status.idle": "2021-09-28T17:31:25.464392Z",
     "shell.execute_reply": "2021-09-28T17:31:25.463669Z",
     "shell.execute_reply.started": "2021-09-28T17:28:20.532751Z"
    },
    "papermill": {
     "duration": 0.068197,
     "end_time": "2021-09-28T17:31:25.464523",
     "exception": false,
     "start_time": "2021-09-28T17:31:25.396326",
     "status": "completed"
    },
    "tags": []
   },
   "outputs": [],
   "source": [
    "def train_selected_features(train_idx, test_idx):\n",
    "    \n",
    "    slct_x_train = x_train.iloc[list(train_idx)]\n",
    "    slct_x_test = x_test.iloc[list(test_idx)]\n",
    "    \n",
    "    slct_y_train = y_train.iloc[list(train_idx)]\n",
    "    slct_y_test = y_test.iloc[list(test_idx)]\n",
    "    \n",
    "    print(\"{}  {} {} {}\".format(slct_x_train.shape,slct_x_test.shape, slct_y_train.shape, slct_y_test.shape))\n",
    "    \n",
    "    tree = DecisionTreeClassifier(criterion='entropy', max_depth=15)\n",
    "    tree.fit(slct_x_train, slct_y_train)\n",
    "    y_pred = tree.predict(slct_x_test)\n",
    "    print(classification_report(y_true = slct_y_test,y_pred = y_pred))\n",
    "    print(f1_score(y_true =slct_y_test, y_pred=y_pred, average='macro'))"
   ]
  },
  {
   "cell_type": "code",
   "execution_count": 43,
   "metadata": {
    "execution": {
     "iopub.execute_input": "2021-09-28T17:31:25.580359Z",
     "iopub.status.busy": "2021-09-28T17:31:25.579669Z",
     "iopub.status.idle": "2021-09-28T17:31:25.925711Z",
     "shell.execute_reply": "2021-09-28T17:31:25.924709Z",
     "shell.execute_reply.started": "2021-09-28T17:28:20.542626Z"
    },
    "papermill": {
     "duration": 0.405232,
     "end_time": "2021-09-28T17:31:25.925890",
     "exception": false,
     "start_time": "2021-09-28T17:31:25.520658",
     "status": "completed"
    },
    "tags": []
   },
   "outputs": [
    {
     "name": "stdout",
     "output_type": "stream",
     "text": [
      "(16625, 13)  (4155, 13) (16625,) (4155,)\n",
      "              precision    recall  f1-score   support\n",
      "\n",
      "         8.0       1.00      1.00      1.00       593\n",
      "         9.0       0.90      0.90      0.90       587\n",
      "        10.0       0.89      0.89      0.89       592\n",
      "        11.0       0.91      0.89      0.90       595\n",
      "        12.0       0.80      0.83      0.81       591\n",
      "        13.0       0.87      0.87      0.87       600\n",
      "        14.0       0.89      0.87      0.88       597\n",
      "\n",
      "    accuracy                           0.89      4155\n",
      "   macro avg       0.89      0.89      0.89      4155\n",
      "weighted avg       0.89      0.89      0.89      4155\n",
      "\n",
      "0.8934008761472674\n"
     ]
    }
   ],
   "source": [
    "train_selected_features(train_idxs, test_idxs)"
   ]
  },
  {
   "cell_type": "code",
   "execution_count": 44,
   "metadata": {
    "execution": {
     "iopub.execute_input": "2021-09-28T17:31:26.044566Z",
     "iopub.status.busy": "2021-09-28T17:31:26.043862Z",
     "iopub.status.idle": "2021-09-28T17:31:26.046902Z",
     "shell.execute_reply": "2021-09-28T17:31:26.046337Z",
     "shell.execute_reply.started": "2021-09-28T17:28:20.897853Z"
    },
    "papermill": {
     "duration": 0.0641,
     "end_time": "2021-09-28T17:31:26.047020",
     "exception": false,
     "start_time": "2021-09-28T17:31:25.982920",
     "status": "completed"
    },
    "tags": []
   },
   "outputs": [],
   "source": [
    "for k,v in mapped_labels:\n",
    "    print(\" {}, {}\".format(k,v))"
   ]
  }
 ],
 "metadata": {
  "kernelspec": {
   "display_name": "Python 3",
   "language": "python",
   "name": "python3"
  },
  "language_info": {
   "codemirror_mode": {
    "name": "ipython",
    "version": 3
   },
   "file_extension": ".py",
   "mimetype": "text/x-python",
   "name": "python",
   "nbconvert_exporter": "python",
   "pygments_lexer": "ipython3",
   "version": "3.8.3"
  },
  "papermill": {
   "duration": 40.859139,
   "end_time": "2021-09-28T17:31:27.134583",
   "environment_variables": {},
   "exception": null,
   "input_path": "__notebook__.ipynb",
   "output_path": "__notebook__.ipynb",
   "parameters": {},
   "start_time": "2021-09-28T17:30:46.275444",
   "version": "2.1.0"
  }
 },
 "nbformat": 4,
 "nbformat_minor": 4
}
